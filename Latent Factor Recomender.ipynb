{
 "cells": [
  {
   "cell_type": "code",
   "execution_count": 1,
   "metadata": {
    "collapsed": false
   },
   "outputs": [],
   "source": [
    "import numpy as np\n",
    "import pandas as pd \n",
    "import stop_words\n",
    "import json\n",
    "from tqdm import trange\n",
    "from tqdm import tqdm_notebook as tqdm"
   ]
  },
  {
   "cell_type": "code",
   "execution_count": 2,
   "metadata": {
    "collapsed": false
   },
   "outputs": [],
   "source": [
    "reviews = []\n",
    "k = 4  # Dimensionality of the latent feature space\n",
    "with open('/Users/karan/Downloads/yelp_data/yelp_academic_dataset_review.json') as fh:\n",
    "    for r in fh:\n",
    "        r1 = json.loads(r)\n",
    "        \n",
    "        r2 = { key: r1[key] for key in ['review_id','stars','user_id','business_id','text'] }\n",
    "        reviews.append(r2)\n",
    "df = pd.DataFrame.from_records(reviews)"
   ]
  },
  {
   "cell_type": "code",
   "execution_count": null,
   "metadata": {
    "collapsed": false
   },
   "outputs": [],
   "source": [
    "n_users = df.user_id.unique().shape[0]\n",
    "n_business = df.business_id.unique().shape[0]"
   ]
  },
  {
   "cell_type": "code",
   "execution_count": 4,
   "metadata": {
    "collapsed": false
   },
   "outputs": [],
   "source": [
    "user = { key: index for index, key in enumerate(df.user_id.unique()) }\n",
    "business = { key: index for index, key in enumerate(df.business_id.unique()) }"
   ]
  },
  {
   "cell_type": "code",
   "execution_count": 5,
   "metadata": {
    "collapsed": true
   },
   "outputs": [],
   "source": [
    "from nltk.tokenize import RegexpTokenizer\n",
    "from nltk.stem.porter import PorterStemmer\n",
    "from collections import Counter\n",
    "import os\n",
    "import random\n",
    "tokenizer = RegexpTokenizer(r'\\w+')\n",
    "stemmer = PorterStemmer()\n",
    "\n",
    "global all_words\n",
    "all_words = set()\n",
    "sw = set(stop_words.get_stop_words('en') +\n",
    "     [chr(x) for x in range(ord('a'),ord('z')+1)] +\n",
    "     [chr(x) for x in range(ord('A'),ord('Z')+1)])\n",
    "\n",
    "def extract_tokens(blob):\n",
    "    global all_words\n",
    "    tokens = [stemmer.stem(i) for i in tokenizer.tokenize(blob.lower()) if not i in sw]\n",
    "    all_words = all_words | set(tokens)\n",
    "    return tokens\n",
    "   \n",
    "df['text'].apply(extract_tokens)\n",
    "all_words = list(all_words)"
   ]
  },
  {
   "cell_type": "code",
   "execution_count": 6,
   "metadata": {
    "collapsed": false
   },
   "outputs": [],
   "source": [
    "from nltk.tokenize import RegexpTokenizer\n",
    "from nltk.stem.porter import PorterStemmer\n",
    "from collections import Counter\n",
    "import os\n",
    "import random\n",
    "tokenizer = RegexpTokenizer(r'\\w+')\n",
    "stemmer = PorterStemmer()\n",
    "\n",
    "global all_words\n",
    "all_words = set()\n",
    "sw = set(stop_words.get_stop_words('en') +\n",
    "     [chr(x) for x in range(ord('a'),ord('z')+1)] +\n",
    "     [chr(x) for x in range(ord('A'),ord('Z')+1)])\n",
    "\n",
    "def extract_tokens(blob):\n",
    "    global all_words\n",
    "    tokens = [stemmer.stem(i) for i in tokenizer.tokenize(blob.lower()) if not i in sw]\n",
    "    all_words = all_words | set(tokens)\n",
    "    return tokens\n",
    "   \n",
    "df['text'].apply(extract_tokens)\n",
    "df['stars'] /= 5\n",
    "all_words = list(all_words)\n",
    "word_topics = dict()\n",
    "\n",
    "def extract_tokens(blob):\n",
    "    return set([stemmer.stem(i) for i in tokenizer.tokenize(blob.lower()) if not i in sw])\n",
    "\n",
    "df['tokens'] = df['text'].apply(extract_tokens)"
   ]
  },
  {
   "cell_type": "code",
   "execution_count": 7,
   "metadata": {
    "collapsed": false
   },
   "outputs": [],
   "source": [
    "import math\n",
    "\n",
    "def updateTopic(epoch):\n",
    "    for index, row in tqdm(df.iterrows(),desc=\"updateTopic: \"+str(epoch),total=len(df)):\n",
    "        bindex = business[row['business_id']]\n",
    "        for word in row['tokens']:\n",
    "            topic_scores = []\n",
    "            word_id = all_words.index(word)\n",
    "            for topic in range(k):\n",
    "                topic_scores.append(math.exp(Q[topic,bindex] + weight_of_word_in_topic[word_id][topic]))\n",
    "            topic_scores = np.array(topic_scores) / sum(topic_scores)\n",
    "            new_topic = topic_scores.argmax()\n",
    "            prev_topic = word_topics[all_words.index(word)]\n",
    "            if new_topic != prev_topic:\n",
    "                number_of_words_in_topic[word_id,prev_topic] -= 1\n",
    "                number_of_words_in_topic[word_id,new_topic] += 1\n",
    "                word_topics[all_words.index(word)] = new_topic"
   ]
  },
  {
   "cell_type": "code",
   "execution_count": 8,
   "metadata": {
    "collapsed": true
   },
   "outputs": [],
   "source": [
    "def update_word_weights():\n",
    "    wZk = np.exp(number_of_words_in_topic).sum(axis=0)\n",
    "    n_t = number_of_words_in_topic\n",
    "    w = weight_of_word_in_topic\n",
    "    Ew = np.exp(w)\n",
    "    return w + -word_lambda*(n_t - np.divide(np.multiply(n_t.sum(axis=0),Ew),wZk))\n",
    "#     for word_index in range(len(all_words)):\n",
    "#         for topic in range(k):\n",
    "#             twc = number_of_words_in_topic[word_index,topic]\n",
    "#             e = math.exp(weight_of_word_in_topic[word_index,topic])\n",
    "#             weight_of_word_in_topic[word_index,topic] += -word_lambda*(twc - sum(number_of_words_in_topic[:,topic])*e/wZk[topic])\n",
    "#    return weight_of_word_in_topic / weight_of_word_in_topic.sum(axis=0)"
   ]
  },
  {
   "cell_type": "code",
   "execution_count": 9,
   "metadata": {
    "collapsed": false
   },
   "outputs": [],
   "source": [
    "from sklearn import cross_validation as cv\n",
    "train_data, test_data = cv.train_test_split(df, test_size=0.25)\n",
    "train_data = pd.DataFrame(train_data)\n",
    "test_data = pd.DataFrame(test_data)"
   ]
  },
  {
   "cell_type": "code",
   "execution_count": 10,
   "metadata": {
    "collapsed": false
   },
   "outputs": [],
   "source": [
    "#Create two user-business matrices, one for training and another for testing\n",
    "from scipy.sparse import csr_matrix, dok_matrix\n",
    "import gc\n",
    "gc.collect()\n",
    "R = dok_matrix((n_business, n_users), dtype=np.float32)\n",
    "I = dok_matrix((n_business, n_users), dtype=np.int8)\n",
    "for line in train_data.itertuples():\n",
    "    R[business[line[1]], user[line[5]]] = line[3]\n",
    "    if line[3] > 0:\n",
    "        I[business[line[1]], user[line[5]]] = 1\n",
    "\n",
    "T = dok_matrix((n_business, n_users), dtype=np.float32)\n",
    "I2 = dok_matrix((n_business, n_users), dtype=np.int8)\n",
    "for line in test_data.itertuples():\n",
    "    T[business[line[1]], user[line[5]]] = line[3]\n",
    "    if line[3] > 0:\n",
    "        I2[business[line[1]], user[line[5]]] = 1\n",
    "R = R.asformat('csr')\n",
    "I = I.asformat('csr')\n",
    "T = T.asformat('csr')\n",
    "I2 = I2.asformat('csr')"
   ]
  },
  {
   "cell_type": "code",
   "execution_count": 11,
   "metadata": {
    "collapsed": false
   },
   "outputs": [],
   "source": [
    "# Predict the unknown ratings through the dot product of the latent features for users and items \n",
    "def prediction(P,Q,bp,bq,A):\n",
    "    if len(Q.shape) > 1:\n",
    "        bq = bq.reshape((1,Q.shape[1]))\n",
    "    if len(P.shape) > 1:\n",
    "        bp = bp.reshape((P.shape[1],1))      \n",
    "    return np.dot(P.T,Q) + bp + bq + A"
   ]
  },
  {
   "cell_type": "code",
   "execution_count": 12,
   "metadata": {
    "collapsed": true
   },
   "outputs": [],
   "source": [
    "# Calculate the RMSE\n",
    "def rmse(I,R,Q,P,BP,BQ,A):\n",
    "    return np.sqrt(np.sum(I.multiply(np.square(R - prediction(P,Q,BP,BQ,A))))/I.getnnz())"
   ]
  },
  {
   "cell_type": "code",
   "execution_count": 13,
   "metadata": {
    "collapsed": false
   },
   "outputs": [
    {
     "name": "stdout",
     "output_type": "stream",
     "text": [
      "\n",
      "\n",
      "\n",
      "\n",
      "\n",
      "\n",
      "\n",
      "\n",
      "\n",
      "\n",
      "\n",
      "\n",
      "\n",
      "\n",
      "\n",
      "\n",
      "\n",
      "\n",
      "\n",
      "\n",
      "\n",
      "\n",
      "\n",
      "\n",
      "\n",
      "\n",
      "\n",
      "\n",
      "\n",
      "\n",
      "\n",
      "\n",
      "\n",
      "\n",
      "\n",
      "\n",
      "\n",
      "\n",
      "\n",
      "\n"
     ]
    }
   ],
   "source": [
    "import gc\n",
    "\n",
    "lmbda = 0.75 # Regularisation weight\n",
    "m, n = R.shape  # Number of users and business\n",
    "n_epochs = 20  # Number of epochs\n",
    "gamma=0.007  # Learning rate\n",
    "word_lambda = 0.1\n",
    "\n",
    "dA = 0\n",
    "A = df['stars'].mean()\n",
    "\n",
    "P = 5 * np.random.rand(k,m) # Latent user feature matrix\n",
    "Q = 5 * np.random.rand(k,n) # Latent business feature matrix\n",
    "\n",
    "number_of_words_in_topic = np.zeros((len(all_words),k),dtype=np.uint32)\n",
    "weight_of_word_in_topic = np.zeros((len(all_words),k),dtype=np.float32)\n",
    "\n",
    "for index, row in df.iterrows():\n",
    "    wordTopicAssignment = {t: random.randint(0, k-1) for t in row['tokens']}\n",
    "    for word, topic in wordTopicAssignment.items():\n",
    "        word_topics[all_words.index(word)] = topic\n",
    "        number_of_words_in_topic[all_words.index(word),topic] += 1\n",
    "\n",
    "BP = np.zeros((m))\n",
    "BQ = np.zeros((n))\n",
    "\n",
    "\n",
    "dBP = np.zeros((m))\n",
    "dBQ = np.zeros((n))\n",
    "\n",
    "train_errors = []\n",
    "test_errors = []\n",
    "gc_counter = 0\n",
    "#Only consider non-zero matrix \n",
    "users,items = R.nonzero()\n",
    "for epoch in range(n_epochs):\n",
    "    tusers = tqdm(\n",
    "        users,\n",
    "        desc=\"Epoch: \"+str(epoch),\n",
    "        leave=True,\n",
    "        smoothing=None\n",
    "    )\n",
    "    dA = 0\n",
    "    dBP = np.zeros((m))\n",
    "    dBQ = np.zeros((n))\n",
    "    for u, i in zip(tusers,items):\n",
    "        e = R[u, i] - prediction(P[:,u],Q[:,i],BP[u],BQ[i],A) # Calculate error for gradient\n",
    "        P[:,u] += gamma * (  e * Q[:,i] ) - lmbda * P[:,u] # Update latent user feature matrix\n",
    "        Q[:,i] += gamma * (  e * P[:,u] ) - lmbda * Q[:,i] # Update latent business feature matrix\n",
    "        \n",
    "        dA += gamma * ( e )\n",
    "        \n",
    "        dBP[u] += gamma * ( e ) # Update latent user bias vector\n",
    "        dBQ[i] += gamma * ( e ) # Update latent business bias vector\n",
    "                        \n",
    "        if not gc_counter%1000:\n",
    "            gc.collect()\n",
    "            gc_counter = 1\n",
    "        gc_counter += 1\n",
    "    \n",
    "    BP += dBP / len(R[u,:].nonzero())\n",
    "    BQ += dBQ / len(R[:,i].nonzero())\n",
    "    A += (dA) / len(users) - lmbda * A\n",
    "    updateTopic(epoch)\n",
    "    weight_of_word_in_topic = update_word_weights()\n",
    "    gc.collect()\n",
    "    train_rmse = rmse(I,R,Q,P,BP,BQ,A) # Calculate root mean squared error from train dataset\n",
    "    test_rmse = rmse(I2,T,Q,P,BP,BQ,A) # Calculate root mean squared error from test dataset\n",
    "    train_errors.append(train_rmse)\n",
    "    test_errors.append(test_rmse)"
   ]
  },
  {
   "cell_type": "code",
   "execution_count": 19,
   "metadata": {
    "collapsed": false
   },
   "outputs": [
    {
     "data": {
      "image/png": "[encoded data removed]",
      "text/plain": [
       "<matplotlib.figure.Figure at 0x11486bb70>"
      ]
     },
     "metadata": {},
     "output_type": "display_data"
    }
   ],
   "source": [
    "# Check performance by plotting train and test errors\n",
    "import matplotlib.pyplot as plt\n",
    "%matplotlib inline\n",
    "\n",
    "plt.plot(range(n_epochs), train_errors, marker='o', label='Training Data');\n",
    "plt.plot(range(n_epochs), test_errors, marker='v', label='Test Data');\n",
    "plt.title('SGD-WR Learning Curve')\n",
    "plt.xlabel('Number of Epochs');\n",
    "plt.ylabel('RMSE');\n",
    "plt.legend()\n",
    "plt.grid()\n",
    "plt.show()"
   ]
  },
  {
   "cell_type": "code",
   "execution_count": 21,
   "metadata": {
    "collapsed": false
   },
   "outputs": [],
   "source": [
    "user_weights = (len(user) - np.argsort(Q, axis=1))/len(user)\n",
    "business_weights = (len(business) - np.argsort(P, axis=1))/len(business)"
   ]
  },
  {
   "cell_type": "code",
   "execution_count": 22,
   "metadata": {
    "collapsed": false
   },
   "outputs": [
    {
     "name": "stdout",
     "output_type": "stream",
     "text": [
      "Business:  iQLLIdmJSt6LQHSjpZERLA Old Rating:  3.9999999999999996  New Rating:  3.83395925876\n",
      "Business:  EoAY1JSVeJriBzId8lUQwQ Old Rating:  2.7078651685393265  New Rating:  2.81309575845\n",
      "Business:  b9WZJp5L1RZr4F1nxclOoQ Old Rating:  4.25  New Rating:  4.47412788986\n",
      "Business:  jLtS1O2tN7zNop8htTe9ZA Old Rating:  1.6666666666666665  New Rating:  1.61748104276\n",
      "Business:  1_lU0-eSWJCRvNGk78Zh9Q Old Rating:  4.333333333333334  New Rating:  3.13546611627\n",
      "Business:  e_U_FnpdKVgNb4mUN2cU_Q Old Rating:  2.8571428571428568  New Rating:  3.12688691037\n",
      "Business:  xxWFOD46ubTSF3nPRM19BA Old Rating:  1.7142857142857146  New Rating:  1.97021998731\n",
      "Business:  cE27W9VPgO88Qxe4ol6y_g Old Rating:  2.6  New Rating:  2.24822273074\n",
      "Business:  Sktj1eHQFuVa-M4bgnEh8g Old Rating:  4.0  New Rating:  4.5594741329\n",
      "Business:  6o3RK6rTcN3nw-j-r2nQmA Old Rating:  2.25  New Rating:  2.68897731862\n",
      "Business:  yHTLTr-QN-loO_7XoxS8qg Old Rating:  2.9  New Rating:  3.21084062458\n",
      "Business:  F04xyOUA2xnUoCiWpx9iJA Old Rating:  3.0  New Rating:  3.60074258536\n",
      "Business:  QoDa50dc7g62xciFygXB9w Old Rating:  3.4000000000000004  New Rating:  3.73215282452\n",
      "Business:  wJr6kSA5dchdgOdwH6dZ2w Old Rating:  3.2499999999999996  New Rating:  3.04058307534\n",
      "Business:  KayYbHCt-RkbGcPdGOThNg Old Rating:  3.8947368421052637  New Rating:  3.53704047439\n",
      "Business:  -taSf0shFSUKy9iCXnySsA Old Rating:  2.4  New Rating:  2.47562525239\n",
      "Business:  WETE_LykpcnrC1sFcQ5EGg Old Rating:  3.142857142857144  New Rating:  3.44425065221\n",
      "Business:  tv8cS4aaA1VDaInYgggb6g Old Rating:  3.116279069767443  New Rating:  4.11348183997\n",
      "Business:  Cdcus0NADzyY3XiJM2O5Sg Old Rating:  2.75  New Rating:  3.0555200341\n",
      "Business:  sbW8qHJgzEIH42B0S-3New Old Rating:  2.5833333333333353  New Rating:  2.25921452248\n",
      "Business:  LLJMI-_fSp6OYQuY4rwarw Old Rating:  3.0  New Rating:  3.13588302598\n",
      "Business:  eT5Ck7Gg1dBJobca9VFovw Old Rating:  3.5517241379310347  New Rating:  3.18935454873\n",
      "Business:  t_gan0EXAw8csKIeFyazJw Old Rating:  1.75  New Rating:  2.13352234486\n",
      "Business:  rv7CY8G_XibTx82YhuqQRw Old Rating:  3.3999999999999995  New Rating:  3.55036703011\n",
      "Business:  udjqHtgz7_eh5sExzAkP-g Old Rating:  5.0  New Rating:  4.7937138242\n",
      "Business:  57HN9fGRar_GckBmgHgemA Old Rating:  3.666666666666667  New Rating:  3.53371023467\n",
      "Business:  woOVJ0Z2f6XNCDntHA3b_g Old Rating:  4.444444444444445  New Rating:  5.10661122827\n",
      "Business:  fNGIbpazjTRdXgwRY_NIXA Old Rating:  3.8  New Rating:  3.54502557545\n",
      "Business:  gClSqcwuLsgyZRCzhJc7Dg Old Rating:  2.9  New Rating:  2.57910553237\n",
      "Business:  yXuao0pFz1AxB21vJjDf5w Old Rating:  3.5  New Rating:  3.40200621439\n",
      "Business:  uI0LvTXFACid1308KFO5ew Old Rating:  3.166666666666667  New Rating:  3.31987780619\n",
      "Business:  5UmKMjUEUNdYWqANhGckJw Old Rating:  3.428571428571429  New Rating:  5.09765878892\n",
      "Business:  b12U9TFESStdy7CsTtcOeg Old Rating:  2.625  New Rating:  2.73246651635\n",
      "Business:  1u2NauOy8xDj7aFQET680A Old Rating:  3.0  New Rating:  3.24734342249\n",
      "Business:  MKyk4F4HSzHF8v-4cYe3Ww Old Rating:  3.545454545454546  New Rating:  3.55491052672\n",
      "Business:  3gmBc0qN_LtGbZAjTtHWZg Old Rating:  3.363636363636364  New Rating:  3.56451692181\n",
      "Business:  zaXDakTd3RXyOa7sMrUE1g Old Rating:  4.25  New Rating:  5.02267016646\n",
      "Business:  mVHrayjG3uZ_RLHkLj-AMg Old Rating:  4.680000000000001  New Rating:  3.9836890564\n",
      "Business:  W7ysp8GLCBrs0GXIVwAcBQ Old Rating:  3.1428571428571432  New Rating:  3.27177823074\n",
      "Business:  HwwEfnZKLNOUoqfgcwAgcQ Old Rating:  3.499999999999999  New Rating:  3.36819965114\n",
      "Business:  _qopVQ6_Mz6W7-Pmbi56GQ Old Rating:  3.666666666666667  New Rating:  2.73219290767\n",
      "Business:  UsFtqoBl7naz8AVUBZMjQQ Old Rating:  3.0  New Rating:  3.31275407188\n",
      "Business:  M0RJELIvWleZ-Tkd6vdXFQ Old Rating:  4.5  New Rating:  4.10537252659\n",
      "Business:  mYSpR_SLPgUVymYOvTQd_Q Old Rating:  5.0  New Rating:  4.37124781263\n",
      "Business:  P1fJb2WQ1mXoiudj8UE44w Old Rating:  3.4556962025316453  New Rating:  4.06377283005\n",
      "Business:  LTXS986DAz-4jE_sV2Ui4w Old Rating:  3.0  New Rating:  2.599787993\n",
      "Business:  frIRW4BGhdAWbSsG5ev2ng Old Rating:  3.333333333333333  New Rating:  4.13642706511\n",
      "Business:  6ilJq_05xRgek_8qUp36-g Old Rating:  1.8333333333333317  New Rating:  1.75377150606\n",
      "Business:  3ZVKmuK2l7uXPE6lXY4Dbg Old Rating:  2.3333333333333335  New Rating:  2.77422563228\n",
      "Business:  1qCuOcks5HRv67OHovAVpg Old Rating:  3.696969696969698  New Rating:  3.63687249395\n",
      "Business:  0hrB2iwQZ52VZcZWYywXrA Old Rating:  4.2142857142857135  New Rating:  4.87482100392\n",
      "Business:  PK6aSizckHFWk8i0oxt5DA Old Rating:  1.7000000000000002  New Rating:  1.6752714587\n",
      "Business:  wqu7ILomIOPSduRwoWp4AQ Old Rating:  4.09090909090909  New Rating:  3.70986735031\n",
      "Business:  McikHxxEqZ2X0joaRNKlaw Old Rating:  3.3142857142857123  New Rating:  3.32346114647\n",
      "Business:  SQ0j7bgSTazkVQlF5AnqyQ Old Rating:  2.4444444444444446  New Rating:  2.53351355798\n",
      "Business:  zgy27FSnvwdINfk5cXBIyQ Old Rating:  3.5  New Rating:  3.93678983264\n",
      "Business:  sZ4uYs99km644ZMR1TO76A Old Rating:  2.6666666666666665  New Rating:  2.4624534482\n"
     ]
    }
   ],
   "source": [
    "for b in business:\n",
    "    bdf = df[df['business_id'] == b]\n",
    "    review_rating = 0\n",
    "    for index,row in bdf.iterrows():\n",
    "        total = 0\n",
    "        for topic in range(k):\n",
    "            total += user_weights[topic,user[row['user_id']]] + business_weights[topic,business[row['business_id']]]\n",
    "        review_rating += row['stars'] * total / (k)\n",
    "    review_rating /= len(bdf)\n",
    "    print(\"Business: \",b,\"Old Rating: \",bdf['stars'].mean()*5,\" New Rating: \",review_rating*5)"
   ]
  }
 ],
 "metadata": {
  "anaconda-cloud": {},
  "kernelspec": {
   "display_name": "Python 3",
   "language": "python",
   "name": "python3"
  },
  "language_info": {
   "codemirror_mode": {
    "name": "ipython",
    "version": 3
   },
   "file_extension": ".py",
   "mimetype": "text/x-python",
   "name": "python",
   "nbconvert_exporter": "python",
   "pygments_lexer": "ipython3",
   "version": "3.5.2"
  },
  "widgets": {
   "state": {
    "0060744e28184d5e8b16c64ad6757d38": {
     "views": [
      {
       "cell_index": 12
      }
     ]
    },
    "00c0ed97bdcb457d81ae83b6ee2caa71": {
     "views": [
      {
       "cell_index": 12
      }
     ]
    },
    "01d1b5ea59e948769b93265a7e07eadf": {
     "views": [
      {
       "cell_index": 12
      }
     ]
    },
    "02315c0014154526800d93af39c59d5f": {
     "views": [
      {
       "cell_index": 12
      }
     ]
    },
    "025ab31bf6b44bd5b23319b71cc1ccd3": {
     "views": [
      {
       "cell_index": 12
      }
     ]
    },
    "027d234147594e8ea3a273f73ec235e9": {
     "views": [
      {
       "cell_index": 12
      }
     ]
    },
    "0293baf0cbb74cb4851adf5c107f62fd": {
     "views": [
      {
       "cell_index": 12
      }
     ]
    },
    "029754cd58b84d2bafce16df787de62a": {
     "views": [
      {
       "cell_index": 12
      }
     ]
    },
    "03f136e76dd541f2a3804fd5c035527d": {
     "views": [
      {
       "cell_index": 12
      }
     ]
    },
    "042f7c7a49094e4d978c7517c3107f2d": {
     "views": [
      {
       "cell_index": 12
      }
     ]
    },
    "04cb87baca6642cea7fb858b8568e8d6": {
     "views": [
      {
       "cell_index": 12
      }
     ]
    },
    "04d8dbb6bca74a7a92cedf1f1feb0a6a": {
     "views": [
      {
       "cell_index": 13
      }
     ]
    },
    "065cf22dec754ae78c1f2ddb6e62b848": {
     "views": [
      {
       "cell_index": 12
      }
     ]
    },
    "077968603c964cefb07a4fce3f3e3afd": {
     "views": [
      {
       "cell_index": 12
      }
     ]
    },
    "081703f39ea0419890cdb6bede9e131c": {
     "views": [
      {
       "cell_index": 12
      }
     ]
    },
    "08bd5468a7ed4284a2412fae54fc8f44": {
     "views": [
      {
       "cell_index": 12
      }
     ]
    },
    "08f33ef8e985422d85b00d0f4ae7e314": {
     "views": [
      {
       "cell_index": 12
      }
     ]
    },
    "0919fe860f7240968fcbdabea73fd406": {
     "views": [
      {
       "cell_index": 12
      }
     ]
    },
    "0ab6c20d5aae4e3a89adf9626e428eb5": {
     "views": [
      {
       "cell_index": 12
      }
     ]
    },
    "0b3c58cb242e47ffb2c23dc7d9877493": {
     "views": [
      {
       "cell_index": 12
      }
     ]
    },
    "0bfb04fdf4734b3f89d4bd216aa638a0": {
     "views": [
      {
       "cell_index": 12
      }
     ]
    },
    "0bff0a5386fe453582a3e9bcdf594885": {
     "views": [
      {
       "cell_index": 12
      }
     ]
    },
    "0cac4508edc4414e9987cb4b37bb4bcc": {
     "views": [
      {
       "cell_index": 12
      }
     ]
    },
    "0cb31f3380bf42ccba65c6fe6b55ae84": {
     "views": [
      {
       "cell_index": 13
      }
     ]
    },
    "0ce7bea64c3249ab99f305bf35db428a": {
     "views": [
      {
       "cell_index": 12
      }
     ]
    },
    "0cf582a83844405e8689e1555dbe84c5": {
     "views": [
      {
       "cell_index": 12
      }
     ]
    },
    "0db6a44b441b496a994b166881a965d1": {
     "views": [
      {
       "cell_index": 12
      }
     ]
    },
    "0dc8022ed4294061b14c338f4faedea2": {
     "views": [
      {
       "cell_index": 12
      }
     ]
    },
    "0def0454d55a4193b5ab772778acdae5": {
     "views": [
      {
       "cell_index": 12
      }
     ]
    },
    "0e1b8877af264ec4830bdac64cce1123": {
     "views": [
      {
       "cell_index": 12
      }
     ]
    },
    "0e2d5e7e29204ebcac77b2c615ad6889": {
     "views": [
      {
       "cell_index": 12
      }
     ]
    },
    "0f686424245c421c80e21490fcbc711b": {
     "views": [
      {
       "cell_index": 13
      }
     ]
    },
    "0fad51f5e8ff46a6baf0174e4d347ef5": {
     "views": [
      {
       "cell_index": 12
      }
     ]
    },
    "0fd6773903e34f9682584453116f8e3c": {
     "views": [
      {
       "cell_index": 12
      }
     ]
    },
    "11409cb4e91b402f8d167052a1dfbbff": {
     "views": [
      {
       "cell_index": 12
      }
     ]
    },
    "115402f6b0114406b205c83572a9efc1": {
     "views": [
      {
       "cell_index": 12
      }
     ]
    },
    "11bf9348b7d6462f849e49b72814311a": {
     "views": [
      {
       "cell_index": 12
      }
     ]
    },
    "12286c82142846399c66b7b849711f3f": {
     "views": [
      {
       "cell_index": 12
      }
     ]
    },
    "123ce4ef4d534bf88b7f7853b40a61ee": {
     "views": [
      {
       "cell_index": 13
      }
     ]
    },
    "129ec80b9a0b4667ad156e1d28652274": {
     "views": [
      {
       "cell_index": 11
      }
     ]
    },
    "13ba7e11e6214301ad68f6ec43c8ce53": {
     "views": [
      {
       "cell_index": 12
      }
     ]
    },
    "14033edf6a214526b4041a1f03ad6ae3": {
     "views": [
      {
       "cell_index": 12
      }
     ]
    },
    "143e5228cca143c69f096707c1cceb3e": {
     "views": [
      {
       "cell_index": 12
      }
     ]
    },
    "146b3eb3444b4aca876de1dbc627cbc1": {
     "views": [
      {
       "cell_index": 12
      }
     ]
    },
    "1556ca8e2f7f453e833ea547f9ca34b0": {
     "views": [
      {
       "cell_index": 12
      }
     ]
    },
    "156ee5e8c6d3459393dbbb1b981775e7": {
     "views": [
      {
       "cell_index": 12
      }
     ]
    },
    "1686c82a271847d0acb3355a74e71e27": {
     "views": [
      {
       "cell_index": 12
      }
     ]
    },
    "16d70da5958a490289cd740fee0d78a5": {
     "views": [
      {
       "cell_index": 12
      }
     ]
    },
    "1733992fdcc648efbe9d0ebcc6a5fc51": {
     "views": [
      {
       "cell_index": 12
      }
     ]
    },
    "178590e2b71649249e0f4c5c5e752b17": {
     "views": [
      {
       "cell_index": 12
      }
     ]
    },
    "1827720fd3784607a4bc37908438f37b": {
     "views": [
      {
       "cell_index": 12
      }
     ]
    },
    "1856b7d763b84c2b953f3f69196b8384": {
     "views": [
      {
       "cell_index": 12
      }
     ]
    },
    "18b1b4a8bc4f4ca3874a033e92bb0c86": {
     "views": [
      {
       "cell_index": 12
      }
     ]
    },
    "18bfcc2ab7a94bddbc650d6380cb2789": {
     "views": [
      {
       "cell_index": 12
      }
     ]
    },
    "1947d5c9131f433e8332086282b0fea9": {
     "views": [
      {
       "cell_index": 12
      }
     ]
    },
    "19a9e0122a86436c95f08ca56c01ce5a": {
     "views": [
      {
       "cell_index": 12
      }
     ]
    },
    "19b45b70fd414ffbb93e8cdf726a1780": {
     "views": [
      {
       "cell_index": 12
      }
     ]
    },
    "1a0956cc8d9e436e969187f6eb601bdc": {
     "views": [
      {
       "cell_index": 11
      }
     ]
    },
    "1a2aaf8eff234b3da14123ecfad0931d": {
     "views": [
      {
       "cell_index": 12
      }
     ]
    },
    "1a4f933dd846445ea3e8ae1abc657dc6": {
     "views": [
      {
       "cell_index": 13
      }
     ]
    },
    "1ab7654a629b46a7bbb513232c5bdd5b": {
     "views": [
      {
       "cell_index": 12
      }
     ]
    },
    "1aba9dde7bf8424b9cc08f426957d544": {
     "views": [
      {
       "cell_index": 12
      }
     ]
    },
    "1ae624eac3234467a58ce1c5f67e393e": {
     "views": [
      {
       "cell_index": 12
      }
     ]
    },
    "1b5aa60691f947a1a15eb47b148cd0c9": {
     "views": [
      {
       "cell_index": 13
      }
     ]
    },
    "1bfedfa2d1e943f89921318acf412a7d": {
     "views": [
      {
       "cell_index": 13
      }
     ]
    },
    "1c57a22843a44cc9a50a8553ddecf67c": {
     "views": [
      {
       "cell_index": 12
      }
     ]
    },
    "1c62dee43ca94d4ebc46545349398ec3": {
     "views": [
      {
       "cell_index": 12
      }
     ]
    },
    "1cae20935fd44624b7ee813a914c58b5": {
     "views": [
      {
       "cell_index": 11
      }
     ]
    },
    "1cd7dec81b70473ca6e92f3851ee8cf7": {
     "views": [
      {
       "cell_index": 12
      }
     ]
    },
    "1cf3399f09704fe397e186ecf034b315": {
     "views": [
      {
       "cell_index": 12
      }
     ]
    },
    "1cfa3ca466804e6297a01b605e7991e3": {
     "views": [
      {
       "cell_index": 13
      }
     ]
    },
    "1d13042739964223a2a9306b88f8bbfe": {
     "views": [
      {
       "cell_index": 12
      }
     ]
    },
    "1dd237f3871b42be84b30c825f813533": {
     "views": [
      {
       "cell_index": 11
      }
     ]
    },
    "1dfdc3f663604e10ab4ef667d8e4551f": {
     "views": [
      {
       "cell_index": 12
      }
     ]
    },
    "1e7de935f50b4c8e95b3924e2b1fcff1": {
     "views": [
      {
       "cell_index": 13
      }
     ]
    },
    "1e9a9ba254e9453b8353712a2b635793": {
     "views": [
      {
       "cell_index": 12
      }
     ]
    },
    "1eb1284b96b345c681983a6b574cf091": {
     "views": [
      {
       "cell_index": 12
      }
     ]
    },
    "1f036e55ff4248608c45d68eef1f8984": {
     "views": [
      {
       "cell_index": 12
      }
     ]
    },
    "1f0ea7a67f3d4d84bca6ae55980fe85a": {
     "views": [
      {
       "cell_index": 12
      }
     ]
    },
    "1f8341e554dc46af91626bcdd91be4b0": {
     "views": [
      {
       "cell_index": 12
      }
     ]
    },
    "20aefa009a9a41dda30fa6c1495d5548": {
     "views": [
      {
       "cell_index": 12
      }
     ]
    },
    "20bff09b1b9047b89cf4b39e228a4f14": {
     "views": [
      {
       "cell_index": 12
      }
     ]
    },
    "20c752771b3b45599f0f7251ca02f8be": {
     "views": [
      {
       "cell_index": 12
      }
     ]
    },
    "21c8f2f6c1ff485387b50916283c6276": {
     "views": [
      {
       "cell_index": 12
      }
     ]
    },
    "21f0fcdadcdd4629b3528eaf4bf39092": {
     "views": [
      {
       "cell_index": 12
      }
     ]
    },
    "2273ad730fc0460db7fa942053f152d2": {
     "views": [
      {
       "cell_index": 12
      }
     ]
    },
    "2284ed72968c463a978233eca050e3de": {
     "views": [
      {
       "cell_index": 13
      }
     ]
    },
    "22bd979e0ad14b4fab3f422956f2767d": {
     "views": [
      {
       "cell_index": 12
      }
     ]
    },
    "231d15578e1644fa98fd2220c1e8522f": {
     "views": [
      {
       "cell_index": 12
      }
     ]
    },
    "236bcbc26c434141b1600badc5d3d105": {
     "views": [
      {
       "cell_index": 12
      }
     ]
    },
    "23df0381e2514fb9bef3fb712cfac7fb": {
     "views": [
      {
       "cell_index": 12
      }
     ]
    },
    "23e123edd8874200b9f501645169bf36": {
     "views": [
      {
       "cell_index": 12
      }
     ]
    },
    "24a2c2bf736a4faea26e9b746bae0b0c": {
     "views": [
      {
       "cell_index": 12
      }
     ]
    },
    "24dff88a643b4a50a5a19bf6bdabd032": {
     "views": [
      {
       "cell_index": 12
      }
     ]
    },
    "25cb2892504f4b1c9ea5d9ad15d5d19d": {
     "views": [
      {
       "cell_index": 12
      }
     ]
    },
    "260913907815465da317647d8df2b38d": {
     "views": [
      {
       "cell_index": 12
      }
     ]
    },
    "267ea0abc64840f0b6822e641bcb11d9": {
     "views": [
      {
       "cell_index": 11
      }
     ]
    },
    "26c5c12886f74691bac6b998f21cde89": {
     "views": [
      {
       "cell_index": 12
      }
     ]
    },
    "26dce385a47d47bfb77e4511c5f2acd4": {
     "views": [
      {
       "cell_index": 11
      }
     ]
    },
    "272388f145d24d108a8ccb5188568bd7": {
     "views": [
      {
       "cell_index": 13
      }
     ]
    },
    "273c289ca933479eab5739e21f1b9315": {
     "views": [
      {
       "cell_index": 12
      }
     ]
    },
    "27a28bcff6e24bf69fe031216a4b3cc0": {
     "views": [
      {
       "cell_index": 12
      }
     ]
    },
    "27e9e2e6908d4ace9ebf13b9a4709e25": {
     "views": [
      {
       "cell_index": 12
      }
     ]
    },
    "27f218f83d1c4173a8ce35273cc45e9d": {
     "views": [
      {
       "cell_index": 12
      }
     ]
    },
    "282879eb147343fdb00985b82cc841c4": {
     "views": [
      {
       "cell_index": 12
      }
     ]
    },
    "28685c3daf064df598d0ea0be93867c7": {
     "views": [
      {
       "cell_index": 12
      }
     ]
    },
    "28c617b90bc4474abbc922affc3e7b1c": {
     "views": [
      {
       "cell_index": 12
      }
     ]
    },
    "2938c5a26afd4f9f8b12e70a3ddd3b84": {
     "views": [
      {
       "cell_index": 12
      }
     ]
    },
    "2a27d070b56740ecb91ff8afeb83a84f": {
     "views": [
      {
       "cell_index": 12
      }
     ]
    },
    "2a294491dbfc44da9fc1a03f27dce166": {
     "views": [
      {
       "cell_index": 12
      }
     ]
    },
    "2a484c00a9b44e38a311e79a3b174572": {
     "views": [
      {
       "cell_index": 12
      }
     ]
    },
    "2a57b62a75d34545a6547ce8cd6ebf41": {
     "views": [
      {
       "cell_index": 12
      }
     ]
    },
    "2a5baddcfc034a599e3efdb589fc7762": {
     "views": [
      {
       "cell_index": 12
      }
     ]
    },
    "2a61b5956d284aca83e929ddf901075a": {
     "views": [
      {
       "cell_index": 12
      }
     ]
    },
    "2b69a5eab6b54b78b60355e1f3f8e1da": {
     "views": [
      {
       "cell_index": 12
      }
     ]
    },
    "2c351c5eea3b47048729ea80ca77c46c": {
     "views": [
      {
       "cell_index": 12
      }
     ]
    },
    "2c521bb5cc994b87aebe1613e866e930": {
     "views": [
      {
       "cell_index": 12
      }
     ]
    },
    "2ca5fdd0c087440ca804c942436537d2": {
     "views": [
      {
       "cell_index": 12
      }
     ]
    },
    "2cc84c65b151457887f5ab49cf24fbdf": {
     "views": [
      {
       "cell_index": 12
      }
     ]
    },
    "2d215426982a40318ba31d61ebfc5469": {
     "views": [
      {
       "cell_index": 12
      }
     ]
    },
    "2dbc33ac9db44b16af3bd33a3e7a309e": {
     "views": [
      {
       "cell_index": 13
      }
     ]
    },
    "2e0d6e1bebdc4b8c81f373df042ba69f": {
     "views": [
      {
       "cell_index": 12
      }
     ]
    },
    "2e31ffd2225248b488337b52ce7ec50d": {
     "views": [
      {
       "cell_index": 13
      }
     ]
    },
    "2f831a4907b84a78b57af6d0e09229ab": {
     "views": [
      {
       "cell_index": 12
      }
     ]
    },
    "30b2e93a170e4f89a10d3cfd5fb3e050": {
     "views": [
      {
       "cell_index": 12
      }
     ]
    },
    "311f04149e4440e8b882a0d005925bc3": {
     "views": [
      {
       "cell_index": 12
      }
     ]
    },
    "3124d58e5d62418a94e216956e8687b1": {
     "views": [
      {
       "cell_index": 12
      }
     ]
    },
    "316a53bf245f4c73b492d78213f71bb2": {
     "views": [
      {
       "cell_index": 12
      }
     ]
    },
    "319295b5b3844a7388874eb50d4ef194": {
     "views": [
      {
       "cell_index": 12
      }
     ]
    },
    "31a4e3a8dd7744a1b176ac1647870e34": {
     "views": [
      {
       "cell_index": 12
      }
     ]
    },
    "31c0de4771a64e78bad7c89be42b172b": {
     "views": [
      {
       "cell_index": 12
      }
     ]
    },
    "32006486b611466ab448951c70e34bbf": {
     "views": [
      {
       "cell_index": 12
      }
     ]
    },
    "327e1ada1cc04f2dab67f46d741465f7": {
     "views": [
      {
       "cell_index": 12
      }
     ]
    },
    "329a1d38dc8f44ebaca3ee5bce079582": {
     "views": [
      {
       "cell_index": 13
      }
     ]
    },
    "32a6c2500d144c109596629abeeb80af": {
     "views": [
      {
       "cell_index": 12
      }
     ]
    },
    "32f5f8c377224d9488e2604ce734866b": {
     "views": [
      {
       "cell_index": 13
      }
     ]
    },
    "338f6fbe00424d74930e4e4c1a115899": {
     "views": [
      {
       "cell_index": 12
      }
     ]
    },
    "33e36d0f7187473db279a45d317a2c68": {
     "views": [
      {
       "cell_index": 12
      }
     ]
    },
    "3422c01097b742e29759c2e300db6492": {
     "views": [
      {
       "cell_index": 12
      }
     ]
    },
    "344d68ee58674c22b5ee1cd0a1f4fdc7": {
     "views": [
      {
       "cell_index": 12
      }
     ]
    },
    "3467d442f83b4da38d8641d4d1295d51": {
     "views": [
      {
       "cell_index": 12
      }
     ]
    },
    "349a08d100994959837d9af9da8405bc": {
     "views": [
      {
       "cell_index": 12
      }
     ]
    },
    "34ae8267f2c5497382e7306dba2ea171": {
     "views": [
      {
       "cell_index": 13
      }
     ]
    },
    "34ce125a19164022aa3894171dbb75e7": {
     "views": [
      {
       "cell_index": 12
      }
     ]
    },
    "35d501ccafd948458d6b9a80b843cac7": {
     "views": [
      {
       "cell_index": 12
      }
     ]
    },
    "35e882254c8e4cd9a2341f9dfde5f951": {
     "views": [
      {
       "cell_index": 12
      }
     ]
    },
    "3673070aaae840448f23ce3cae642cf1": {
     "views": [
      {
       "cell_index": 12
      }
     ]
    },
    "37144e86ed09474e8eec0228e475714a": {
     "views": [
      {
       "cell_index": 12
      }
     ]
    },
    "38781d65b6274c3c8b446e3cac1dbdbe": {
     "views": [
      {
       "cell_index": 12
      }
     ]
    },
    "38b2e49ff0c94d409d0e26a095d8a6ff": {
     "views": [
      {
       "cell_index": 12
      }
     ]
    },
    "38d024fb47964ae8a708c28097bc343d": {
     "views": [
      {
       "cell_index": 12
      }
     ]
    },
    "3a000b28de3d4ae89be776c50281371e": {
     "views": [
      {
       "cell_index": 12
      }
     ]
    },
    "3a833819e12f4fe481dd3e4cae118a61": {
     "views": [
      {
       "cell_index": 12
      }
     ]
    },
    "3c6f998bd8e340219559563a5a6659f2": {
     "views": [
      {
       "cell_index": 12
      }
     ]
    },
    "3c9684630d174ff3893b4e3348795a43": {
     "views": [
      {
       "cell_index": 12
      }
     ]
    },
    "3cb71789edbc4a7597edf7d40e2c5b64": {
     "views": [
      {
       "cell_index": 12
      }
     ]
    },
    "3cc26e37a5d84a07b9361cf3a970f3a2": {
     "views": [
      {
       "cell_index": 12
      }
     ]
    },
    "3d664ccf086f451aa3e42f5ef9bea535": {
     "views": [
      {
       "cell_index": 13
      }
     ]
    },
    "3e65db22dfba426fa9efa9b7ad4fc234": {
     "views": [
      {
       "cell_index": 12
      }
     ]
    },
    "3e9513137f8d41228f151a23a8b25ab9": {
     "views": [
      {
       "cell_index": 12
      }
     ]
    },
    "3f66d5ffcd68454381657b35c0ff4cf2": {
     "views": [
      {
       "cell_index": 12
      }
     ]
    },
    "40c8c3b1afff4cc68e7c23d4885abc2a": {
     "views": [
      {
       "cell_index": 12
      }
     ]
    },
    "418c1f869580474ab472de8ab53be714": {
     "views": [
      {
       "cell_index": 12
      }
     ]
    },
    "420e2498c7804773ba844f7f3d044717": {
     "views": [
      {
       "cell_index": 13
      }
     ]
    },
    "42a3991450324537a00fce7ac5d2fdc4": {
     "views": [
      {
       "cell_index": 12
      }
     ]
    },
    "42a48156c659423a9f7771edbf5eec99": {
     "views": [
      {
       "cell_index": 13
      }
     ]
    },
    "43eef973623d4933940661d3729c6f85": {
     "views": [
      {
       "cell_index": 12
      }
     ]
    },
    "43f93c4fd75b47e9a3c470a4ee23e9b1": {
     "views": [
      {
       "cell_index": 12
      }
     ]
    },
    "44b74c70fca34c6287a0baab0fc64100": {
     "views": [
      {
       "cell_index": 11
      }
     ]
    },
    "44db26afc334475cbafb458e6330813d": {
     "views": [
      {
       "cell_index": 12
      }
     ]
    },
    "46416c27c9fc4ac0b4eac97ef154d3ba": {
     "views": [
      {
       "cell_index": 12
      }
     ]
    },
    "464fe8fa199e4bcbaee5c82b4e41f0e9": {
     "views": [
      {
       "cell_index": 12
      }
     ]
    },
    "468357da147340cda701e72de1523d80": {
     "views": [
      {
       "cell_index": 12
      }
     ]
    },
    "46a43515d6a24f29bc652a0fe341bf60": {
     "views": [
      {
       "cell_index": 12
      }
     ]
    },
    "46d1c17e8d6b4739ba3e563b8811f76a": {
     "views": [
      {
       "cell_index": 12
      }
     ]
    },
    "47630359d47843b29fbad06726d4bcf7": {
     "views": [
      {
       "cell_index": 13
      }
     ]
    },
    "476912fa61eb4ab2b94c5389dd4a7cc3": {
     "views": [
      {
       "cell_index": 12
      }
     ]
    },
    "47d234aaef92467b99775786a37154ce": {
     "views": [
      {
       "cell_index": 12
      }
     ]
    },
    "47db338d48fc4062968eb9caceeb40aa": {
     "views": [
      {
       "cell_index": 12
      }
     ]
    },
    "483707d35bd74cbaa4542d567cf867e4": {
     "views": [
      {
       "cell_index": 12
      }
     ]
    },
    "483b67c057d449c9b687a89c98eed08d": {
     "views": [
      {
       "cell_index": 12
      }
     ]
    },
    "48c67e5069424c5da2542e1e67f03948": {
     "views": [
      {
       "cell_index": 12
      }
     ]
    },
    "48db3ecbc2ed4ed39a19a13f7c3a7d49": {
     "views": [
      {
       "cell_index": 12
      }
     ]
    },
    "49c4d4ea916f478698ec015bc7c59420": {
     "views": [
      {
       "cell_index": 12
      }
     ]
    },
    "49d3669a3c204e5b9bb560f25b716f97": {
     "views": [
      {
       "cell_index": 13
      }
     ]
    },
    "4a4184fa79b2444f90f7ab32de09959f": {
     "views": [
      {
       "cell_index": 12
      }
     ]
    },
    "4a722fb36cd34f1ba811c7bbe7ff3f47": {
     "views": [
      {
       "cell_index": 12
      }
     ]
    },
    "4bafa8efc9e04f4c83d2bd9e6ec5cbbe": {
     "views": [
      {
       "cell_index": 12
      }
     ]
    },
    "4bb1ba13ae7b442ab8d077f6764998aa": {
     "views": [
      {
       "cell_index": 12
      }
     ]
    },
    "4bde3c0384454d6f80de8b0ecd39b082": {
     "views": [
      {
       "cell_index": 12
      }
     ]
    },
    "4bfe17ff7ad741cdae2eab3753467c85": {
     "views": [
      {
       "cell_index": 12
      }
     ]
    },
    "4c55045c81bc4bc79a86a16e9db3b0bf": {
     "views": [
      {
       "cell_index": 12
      }
     ]
    },
    "4c5cd0adf6a945c0be9f87c9888207d0": {
     "views": [
      {
       "cell_index": 12
      }
     ]
    },
    "4c644578d0f34b50b542df93d48525e9": {
     "views": [
      {
       "cell_index": 12
      }
     ]
    },
    "4dd1a394cf804ea4bfaa9e51f400aecf": {
     "views": [
      {
       "cell_index": 12
      }
     ]
    },
    "4dd1f17b0b134075aa18165a33701814": {
     "views": [
      {
       "cell_index": 12
      }
     ]
    },
    "4dffc17f07a44e0c82ac00f678e79487": {
     "views": [
      {
       "cell_index": 12
      }
     ]
    },
    "4e1c977f19b7434e8e4f530d326b2b87": {
     "views": [
      {
       "cell_index": 12
      }
     ]
    },
    "4e6922a8f1b94d918fbba6cb441fd578": {
     "views": [
      {
       "cell_index": 12
      }
     ]
    },
    "4e974581edcd49b7b79adb6468dbdfce": {
     "views": [
      {
       "cell_index": 13
      }
     ]
    },
    "4f3a5fa30c6c42eebf8f5b43af131fd7": {
     "views": [
      {
       "cell_index": 12
      }
     ]
    },
    "4f62c10d2de94ea08c50b568cbc835af": {
     "views": [
      {
       "cell_index": 12
      }
     ]
    },
    "4f64288030904c2db233b35bd24b6d73": {
     "views": [
      {
       "cell_index": 12
      }
     ]
    },
    "4f775ee2ae0243d7ba41c8098ae9df9d": {
     "views": [
      {
       "cell_index": 13
      }
     ]
    },
    "4fc42e1d480948e0abf9f91e3228298a": {
     "views": [
      {
       "cell_index": 12
      }
     ]
    },
    "50754e7a3ad44311832a2dfd31666290": {
     "views": [
      {
       "cell_index": 11
      }
     ]
    },
    "51199f5d61dd488ba44f1e6342294945": {
     "views": [
      {
       "cell_index": 12
      }
     ]
    },
    "514a73103a8d4ced8d8abf3573ceb652": {
     "views": [
      {
       "cell_index": 12
      }
     ]
    },
    "51e14e48b13e40bb98a0634158cb31a7": {
     "views": [
      {
       "cell_index": 12
      }
     ]
    },
    "520d9387aa224dc2a20e77d720082c52": {
     "views": [
      {
       "cell_index": 12
      }
     ]
    },
    "521dec1138224660b52e17ab1d32143b": {
     "views": [
      {
       "cell_index": 12
      }
     ]
    },
    "529b3b0df08b462aa5effb57ed25ea39": {
     "views": [
      {
       "cell_index": 12
      }
     ]
    },
    "5348e6c693d0417eb1e06017dd8c3866": {
     "views": [
      {
       "cell_index": 12
      }
     ]
    },
    "53fb91cf50d64dc5b504d3c3bf1b5127": {
     "views": [
      {
       "cell_index": 12
      }
     ]
    },
    "54060e7be9bb432186e0841db402b986": {
     "views": [
      {
       "cell_index": 13
      }
     ]
    },
    "541b0699e7734403a94b2d7dbc017a8f": {
     "views": [
      {
       "cell_index": 12
      }
     ]
    },
    "548a457e6e3b4df695386f233e0cdb87": {
     "views": [
      {
       "cell_index": 12
      }
     ]
    },
    "54a22eeeb500420fb5d4af62978206b2": {
     "views": [
      {
       "cell_index": 13
      }
     ]
    },
    "54be812aa5d84c8da0bb7f5a6f9c39ce": {
     "views": [
      {
       "cell_index": 12
      }
     ]
    },
    "54f82fdd1c004d8aaaf8b5020d6e7584": {
     "views": [
      {
       "cell_index": 12
      }
     ]
    },
    "54fa2659686c485fbb7dd3c02c517543": {
     "views": [
      {
       "cell_index": 12
      }
     ]
    },
    "557512061b3541f1b94d4042d8930976": {
     "views": [
      {
       "cell_index": 13
      }
     ]
    },
    "559be34170cb4a5997fcecc741517f42": {
     "views": [
      {
       "cell_index": 12
      }
     ]
    },
    "55fa544393394a188559ce3d54f58b02": {
     "views": [
      {
       "cell_index": 12
      }
     ]
    },
    "5628518532044fd78d32db697bb95cbb": {
     "views": [
      {
       "cell_index": 12
      }
     ]
    },
    "5634fabc28704816a86a0e6c5c1dd3ec": {
     "views": [
      {
       "cell_index": 12
      }
     ]
    },
    "5640fc3c9cd34498b5e5c750205b7afe": {
     "views": [
      {
       "cell_index": 12
      }
     ]
    },
    "56480cd66ae24bdd90741b140db51022": {
     "views": [
      {
       "cell_index": 12
      }
     ]
    },
    "56bc960a332d4907b2af8c07f8ae6fe0": {
     "views": [
      {
       "cell_index": 12
      }
     ]
    },
    "5708d8bb91e545d192ef7b3815e79c3c": {
     "views": [
      {
       "cell_index": 12
      }
     ]
    },
    "57a18d8847194c139e22662a75ae7eb9": {
     "views": [
      {
       "cell_index": 12
      }
     ]
    },
    "57bc0efa069b4421bb66c5de196438cc": {
     "views": [
      {
       "cell_index": 12
      }
     ]
    },
    "58764d894335401cbd8925c5e7e99ca7": {
     "views": [
      {
       "cell_index": 13
      }
     ]
    },
    "58c28ea4bec14356a8356956b2ca591d": {
     "views": [
      {
       "cell_index": 12
      }
     ]
    },
    "59681b0ed5e44c1993e0f7d1a78c9c1a": {
     "views": [
      {
       "cell_index": 13
      }
     ]
    },
    "59ede29bac33415995e62fb22cc5f1b6": {
     "views": [
      {
       "cell_index": 12
      }
     ]
    },
    "5a0bd42d2ce94381a8dfd3797ebb215c": {
     "views": [
      {
       "cell_index": 12
      }
     ]
    },
    "5aa14ca16a8c405faf0f60ac71a57164": {
     "views": [
      {
       "cell_index": 12
      }
     ]
    },
    "5aa62eb2cffd4dc0a7adbdd9bba30133": {
     "views": [
      {
       "cell_index": 12
      }
     ]
    },
    "5b0dbc6dea2f4b8cae1dea7f578e193c": {
     "views": [
      {
       "cell_index": 12
      }
     ]
    },
    "5b33503f6cc7487bb4ac20d8a80b5482": {
     "views": [
      {
       "cell_index": 12
      }
     ]
    },
    "5bb8dd3e68944989b57c27e209b73645": {
     "views": [
      {
       "cell_index": 12
      }
     ]
    },
    "5bfe53ccf3b84a6fab837ef5e588d6d6": {
     "views": [
      {
       "cell_index": 12
      }
     ]
    },
    "5c427766afb849ceb0b6462190b0772c": {
     "views": [
      {
       "cell_index": 12
      }
     ]
    },
    "5c4410a19a6d43b4b3ee35d582d6a8ba": {
     "views": [
      {
       "cell_index": 12
      }
     ]
    },
    "5c824889b291478ab07319a9c21396dc": {
     "views": [
      {
       "cell_index": 12
      }
     ]
    },
    "5cc354af67fb4b6bb4a2dae48d4e1c00": {
     "views": [
      {
       "cell_index": 12
      }
     ]
    },
    "5cf16c578fee4ff39352cfd53039b799": {
     "views": [
      {
       "cell_index": 12
      }
     ]
    },
    "5d0e39ba3ecd45e9b7fd3fe2e0de0b10": {
     "views": [
      {
       "cell_index": 12
      }
     ]
    },
    "5db35fa88e8d4b078b3fd25551635cd7": {
     "views": [
      {
       "cell_index": 12
      }
     ]
    },
    "5e4e691d493a49c48dd39872f351acfa": {
     "views": [
      {
       "cell_index": 12
      }
     ]
    },
    "5e9b71c05b854200b704b92a17921392": {
     "views": [
      {
       "cell_index": 12
      }
     ]
    },
    "5ea963c04bf44b1d98d26abac1f736a7": {
     "views": [
      {
       "cell_index": 12
      }
     ]
    },
    "5eed3b30df964130918a69b31074cbf2": {
     "views": [
      {
       "cell_index": 13
      }
     ]
    },
    "5ef1b9a950684e8d8030ea99281d8dbf": {
     "views": [
      {
       "cell_index": 12
      }
     ]
    },
    "603f6d321d94415ab1f67cf31776ed9c": {
     "views": [
      {
       "cell_index": 12
      }
     ]
    },
    "608bd95c27ee499d87a880913bfffe9d": {
     "views": [
      {
       "cell_index": 12
      }
     ]
    },
    "609a9943bb8d4b64b23066fc7cd4a805": {
     "views": [
      {
       "cell_index": 12
      }
     ]
    },
    "60c3d3f163bd4f9d99e8e04e78d31ec9": {
     "views": [
      {
       "cell_index": 12
      }
     ]
    },
    "611f9d4cfc4a4471a19e8fa14ef48f92": {
     "views": [
      {
       "cell_index": 12
      }
     ]
    },
    "613078a48fc14fe58fb25951654117be": {
     "views": [
      {
       "cell_index": 12
      }
     ]
    },
    "61fbb7566ab942a2b2247bcad89b023c": {
     "views": [
      {
       "cell_index": 12
      }
     ]
    },
    "62009a10ddda4e61b722b391e736aa54": {
     "views": [
      {
       "cell_index": 12
      }
     ]
    },
    "62092cfae81347f99e6d018bfcd9f60d": {
     "views": [
      {
       "cell_index": 12
      }
     ]
    },
    "6218270e4db14f75b3c710f1e7d87e25": {
     "views": [
      {
       "cell_index": 13
      }
     ]
    },
    "62b92e5ecea040a599377eeaa09f35e8": {
     "views": [
      {
       "cell_index": 12
      }
     ]
    },
    "62c8212e623f4f27929de21d0b23ac2a": {
     "views": [
      {
       "cell_index": 12
      }
     ]
    },
    "62ce579b5ec9440a8ae3b9e3bb09e64c": {
     "views": [
      {
       "cell_index": 12
      }
     ]
    },
    "639ba55235a34e7abccaa89952400fef": {
     "views": [
      {
       "cell_index": 12
      }
     ]
    },
    "63bbf8a71e3743bfb558b4b86d933d8f": {
     "views": [
      {
       "cell_index": 13
      }
     ]
    },
    "63db7b567e274b038315753249ab5f22": {
     "views": [
      {
       "cell_index": 12
      }
     ]
    },
    "6470201aea384fd4b715602fb8416c55": {
     "views": [
      {
       "cell_index": 12
      }
     ]
    },
    "6472b9db35e2462f92c6110e9f64adac": {
     "views": [
      {
       "cell_index": 12
      }
     ]
    },
    "6522ec164d5a49f9a3af36141b9db303": {
     "views": [
      {
       "cell_index": 12
      }
     ]
    },
    "6542ac5ddf3e4a5291bda97e0116bb80": {
     "views": [
      {
       "cell_index": 12
      }
     ]
    },
    "6577287820334ad7b66b77075a1f873a": {
     "views": [
      {
       "cell_index": 12
      }
     ]
    },
    "665192d32127452f8db5a8a035c7f606": {
     "views": [
      {
       "cell_index": 12
      }
     ]
    },
    "665bca043fc74acc98375a959dd721d8": {
     "views": [
      {
       "cell_index": 11
      }
     ]
    },
    "66a8340d9182439f9760239bd36c2e27": {
     "views": [
      {
       "cell_index": 12
      }
     ]
    },
    "6740219dc1a345b7b9ac021a734dbfc2": {
     "views": [
      {
       "cell_index": 12
      }
     ]
    },
    "67a72903fa354682b9a21e3a774ec275": {
     "views": [
      {
       "cell_index": 12
      }
     ]
    },
    "67cc9aa1877d4a1c823edd937792c649": {
     "views": [
      {
       "cell_index": 12
      }
     ]
    },
    "67dfd47dbdbf44148f0e704c8cc5f45b": {
     "views": [
      {
       "cell_index": 11
      }
     ]
    },
    "67f1eef1fd9242f88e13b328563d3545": {
     "views": [
      {
       "cell_index": 11
      }
     ]
    },
    "691a890c13af49a9a6f1612f432ab233": {
     "views": [
      {
       "cell_index": 12
      }
     ]
    },
    "693e42af0e564fbfac271037dc88df44": {
     "views": [
      {
       "cell_index": 12
      }
     ]
    },
    "696a241ce6af460b8d299a04cd621b03": {
     "views": [
      {
       "cell_index": 12
      }
     ]
    },
    "69da0ee5e5514be1a775407d7d2d6f77": {
     "views": [
      {
       "cell_index": 12
      }
     ]
    },
    "6b18b5088b5d4b759a8f761c3ebc852a": {
     "views": [
      {
       "cell_index": 13
      }
     ]
    },
    "6bb5fca83e7647929049512a00037b48": {
     "views": [
      {
       "cell_index": 12
      }
     ]
    },
    "6c23523f3e014477ad7ca1120ec27966": {
     "views": [
      {
       "cell_index": 12
      }
     ]
    },
    "6cce124d94dd4a6ca49d3bb2a2c0dbd3": {
     "views": [
      {
       "cell_index": 12
      }
     ]
    },
    "6ce3b27b1dff4f169139481989912073": {
     "views": [
      {
       "cell_index": 12
      }
     ]
    },
    "6d36fd33d52642e9a59ebf080ddc92a3": {
     "views": [
      {
       "cell_index": 12
      }
     ]
    },
    "6d5ceb80f7624709a27f69f4a1d450b8": {
     "views": [
      {
       "cell_index": 12
      }
     ]
    },
    "6e1e614a4dee44488dc8f814bb1a65b6": {
     "views": [
      {
       "cell_index": 12
      }
     ]
    },
    "6e7437df53b04da3b7aff34d575cabcb": {
     "views": [
      {
       "cell_index": 12
      }
     ]
    },
    "6ec4d650b1824ce986dc96f08c9920dd": {
     "views": [
      {
       "cell_index": 12
      }
     ]
    },
    "6ed316dbefdd427aad9b75cb8954a55b": {
     "views": [
      {
       "cell_index": 12
      }
     ]
    },
    "6ed336adfc2044d8b9b31e149f5b3d48": {
     "views": [
      {
       "cell_index": 12
      }
     ]
    },
    "6f113850053a4a4ead154a2508c6f6c8": {
     "views": [
      {
       "cell_index": 12
      }
     ]
    },
    "6f12d130b66a415ba69ea567c0305781": {
     "views": [
      {
       "cell_index": 12
      }
     ]
    },
    "6f3695be3f634bdea28756d9a54f7c18": {
     "views": [
      {
       "cell_index": 13
      }
     ]
    },
    "6f4a18353d444cd7826fb88a36e05f0c": {
     "views": [
      {
       "cell_index": 12
      }
     ]
    },
    "6f97065b33744ccb82031ee89da5ea3c": {
     "views": [
      {
       "cell_index": 12
      }
     ]
    },
    "6fa275c0a275438fb615e089566c915a": {
     "views": [
      {
       "cell_index": 13
      }
     ]
    },
    "6fcf6ba2cea14a1f86802ca21115cde7": {
     "views": [
      {
       "cell_index": 12
      }
     ]
    },
    "7102a5989635494faa7c7dbc44174e39": {
     "views": [
      {
       "cell_index": 12
      }
     ]
    },
    "713dc5f94001489fbbe8c6480110df12": {
     "views": [
      {
       "cell_index": 13
      }
     ]
    },
    "7165d2426f9d465c807be967fb17785c": {
     "views": [
      {
       "cell_index": 12
      }
     ]
    },
    "7188611c602245a885672e3704797e3b": {
     "views": [
      {
       "cell_index": 12
      }
     ]
    },
    "71a8987d58cd4ee8b19ecd1df6ada91d": {
     "views": [
      {
       "cell_index": 12
      }
     ]
    },
    "71bfcc7206de4c34b1fe22bcfe970837": {
     "views": [
      {
       "cell_index": 12
      }
     ]
    },
    "71fe9a27515e429b80a2bcd8f27c01f3": {
     "views": [
      {
       "cell_index": 12
      }
     ]
    },
    "724b50be48bb4d83a0ba4cd8baf3f994": {
     "views": [
      {
       "cell_index": 12
      }
     ]
    },
    "7439f1dac244415b88e7d2df85f5e727": {
     "views": [
      {
       "cell_index": 13
      }
     ]
    },
    "7474bd6b13044c4f81e0aad0824a8031": {
     "views": [
      {
       "cell_index": 12
      }
     ]
    },
    "74cbc1a0e47349f0b5b72d5ba8a98c7d": {
     "views": [
      {
       "cell_index": 12
      }
     ]
    },
    "754a7994a3f44fd995a6b545266b3323": {
     "views": [
      {
       "cell_index": 12
      }
     ]
    },
    "75eea5305a4a4f52b85e928c3ee8188e": {
     "views": [
      {
       "cell_index": 12
      }
     ]
    },
    "75f25cea68204133b4f0b371c01e8dd2": {
     "views": [
      {
       "cell_index": 12
      }
     ]
    },
    "762f00f5d3c44fc7a3181117bc7d233b": {
     "views": [
      {
       "cell_index": 13
      }
     ]
    },
    "7661ef75643f4d08a1f832e8cef10b90": {
     "views": [
      {
       "cell_index": 12
      }
     ]
    },
    "768f80508e6a46fabe7df01b3c095812": {
     "views": [
      {
       "cell_index": 12
      }
     ]
    },
    "77455a1fb1b44d58ad023bdb3068a35f": {
     "views": [
      {
       "cell_index": 12
      }
     ]
    },
    "778b90b2780d49fc92a34f3dab56794f": {
     "views": [
      {
       "cell_index": 12
      }
     ]
    },
    "784215918897424fb416ac93f02c318d": {
     "views": [
      {
       "cell_index": 12
      }
     ]
    },
    "7963cfb21f8640af9073f972b6f010d4": {
     "views": [
      {
       "cell_index": 12
      }
     ]
    },
    "79700a8b944f4bc4ae0b28af9a604074": {
     "views": [
      {
       "cell_index": 12
      }
     ]
    },
    "79af54c2203446fdbd0bdf68bb2690b0": {
     "views": [
      {
       "cell_index": 12
      }
     ]
    },
    "79b5f7aa42d44b6a9aa5943da986ea4b": {
     "views": [
      {
       "cell_index": 13
      }
     ]
    },
    "7a1df9aebdc84fd9ab1b4e22537fdb99": {
     "views": [
      {
       "cell_index": 11
      }
     ]
    },
    "7a273bff98ef4a57a682c5116ef07412": {
     "views": [
      {
       "cell_index": 12
      }
     ]
    },
    "7a83e37568cf47b78a93376233c4fa20": {
     "views": [
      {
       "cell_index": 12
      }
     ]
    },
    "7a95f5a9d70f464b8caebdd7c469073d": {
     "views": [
      {
       "cell_index": 12
      }
     ]
    },
    "7b41baa3eaaa467eb7aef393241f1c2d": {
     "views": [
      {
       "cell_index": 12
      }
     ]
    },
    "7b8ca3e78bb24867a020ce05a0bcd161": {
     "views": [
      {
       "cell_index": 12
      }
     ]
    },
    "7babe368de0f4d96bf0e273e246c351b": {
     "views": [
      {
       "cell_index": 12
      }
     ]
    },
    "7bfde007094d4b24883432caee78437d": {
     "views": [
      {
       "cell_index": 12
      }
     ]
    },
    "7c6941b7a454464bbb864c1e0f7b8487": {
     "views": [
      {
       "cell_index": 12
      }
     ]
    },
    "7d7b6efd2ccd4e2abbd35504f3dc36c2": {
     "views": [
      {
       "cell_index": 12
      }
     ]
    },
    "7d8b900685b240669948b52c81807319": {
     "views": [
      {
       "cell_index": 12
      }
     ]
    },
    "7e1da62a7f274852ada0b6a1890ec12b": {
     "views": [
      {
       "cell_index": 12
      }
     ]
    },
    "7e4e5976a9f14a9b93e8999027e69251": {
     "views": [
      {
       "cell_index": 13
      }
     ]
    },
    "7eb625ca7ac245b18eb45bff030602e4": {
     "views": [
      {
       "cell_index": 12
      }
     ]
    },
    "7f82d7a2d5c146c2af3ee16990e1475f": {
     "views": [
      {
       "cell_index": 12
      }
     ]
    },
    "7fb38282593d4918a46a3af89b986f1d": {
     "views": [
      {
       "cell_index": 12
      }
     ]
    },
    "80f5ba5168bd49d697252d1c01eb9547": {
     "views": [
      {
       "cell_index": 12
      }
     ]
    },
    "810e5ab814c14a7e95984a592b609e9b": {
     "views": [
      {
       "cell_index": 12
      }
     ]
    },
    "818e4b8b272741e7ad2782c213b93e50": {
     "views": [
      {
       "cell_index": 12
      }
     ]
    },
    "834fcb125dbc43078ed591c6b6f11a2d": {
     "views": [
      {
       "cell_index": 12
      }
     ]
    },
    "83fb0b63064c48edb1c30e97e8535475": {
     "views": [
      {
       "cell_index": 12
      }
     ]
    },
    "8402cf23b25447f5a912a69bd3bafb5e": {
     "views": [
      {
       "cell_index": 12
      }
     ]
    },
    "8442366e9a154e9f88f6d0c70e94f826": {
     "views": [
      {
       "cell_index": 12
      }
     ]
    },
    "849f33d7c1374e96847403b1338b4fe1": {
     "views": [
      {
       "cell_index": 12
      }
     ]
    },
    "851c8728b96d498991a87066655bf06b": {
     "views": [
      {
       "cell_index": 12
      }
     ]
    },
    "85a88c4a22c54d5ebb60a37a89f4f02c": {
     "views": [
      {
       "cell_index": 12
      }
     ]
    },
    "861b6e1a76514931a094f97cda00d003": {
     "views": [
      {
       "cell_index": 12
      }
     ]
    },
    "865f3a8373f54b43aab8184df482f2df": {
     "views": [
      {
       "cell_index": 11
      }
     ]
    },
    "87576e57649a4959bb86559f3fe73afb": {
     "views": [
      {
       "cell_index": 11
      }
     ]
    },
    "8772ab9c2974424783b2475fc8226d0f": {
     "views": [
      {
       "cell_index": 12
      }
     ]
    },
    "89636db598ac48df982e4b94d8788453": {
     "views": [
      {
       "cell_index": 12
      }
     ]
    },
    "8976dff5c9c44048b25f48b5380a736f": {
     "views": [
      {
       "cell_index": 13
      }
     ]
    },
    "898a524524bd46488fe02e082fde7ca6": {
     "views": [
      {
       "cell_index": 12
      }
     ]
    },
    "898a527bd53e4568bf55aa99b8f578d6": {
     "views": [
      {
       "cell_index": 12
      }
     ]
    },
    "898f771c28f74016955b65e2e617829d": {
     "views": [
      {
       "cell_index": 11
      }
     ]
    },
    "89a1daef62614f169976383ae6a60f31": {
     "views": [
      {
       "cell_index": 12
      }
     ]
    },
    "8a1f368a28f9475b9f9f3aa1fd0e8220": {
     "views": [
      {
       "cell_index": 12
      }
     ]
    },
    "8a91cbbd2b7e43c89b4035234a3937fa": {
     "views": [
      {
       "cell_index": 12
      }
     ]
    },
    "8b73df117d364cd4b99545b9ec87510b": {
     "views": [
      {
       "cell_index": 11
      }
     ]
    },
    "8bd9e465742f4f21bf2cb06150bc42c6": {
     "views": [
      {
       "cell_index": 12
      }
     ]
    },
    "8c41cdcf68bd4b10b32e52426015dc59": {
     "views": [
      {
       "cell_index": 12
      }
     ]
    },
    "8c7857a4b95f441fb63958318bc982bb": {
     "views": [
      {
       "cell_index": 12
      }
     ]
    },
    "8cde6a2e9ad9487f95254b258f8bbd27": {
     "views": [
      {
       "cell_index": 12
      }
     ]
    },
    "8cedd38046cb4d358d4360c7d47b5c06": {
     "views": [
      {
       "cell_index": 13
      }
     ]
    },
    "8cf5fe62bc07406ab0080b3e44bc7c4b": {
     "views": [
      {
       "cell_index": 12
      }
     ]
    },
    "8d2225df7f35430e8135bf0b636f5936": {
     "views": [
      {
       "cell_index": 13
      }
     ]
    },
    "8d4863b395e2436a9e7216df8a56be68": {
     "views": [
      {
       "cell_index": 12
      }
     ]
    },
    "8da56b262ba242388586edbe2d5d1ea7": {
     "views": [
      {
       "cell_index": 13
      }
     ]
    },
    "8dc820dc02034e4d8fd352f8c34c5908": {
     "views": [
      {
       "cell_index": 12
      }
     ]
    },
    "8df8a2b45d3c4735bcee59967c3a2a34": {
     "views": [
      {
       "cell_index": 12
      }
     ]
    },
    "8e731a40eff646b98ede7ab279976e2c": {
     "views": [
      {
       "cell_index": 12
      }
     ]
    },
    "8e8c44fad6bb44a48974f73a306dd6bc": {
     "views": [
      {
       "cell_index": 12
      }
     ]
    },
    "8f4462ccee2a4246bbec20a34ff54398": {
     "views": [
      {
       "cell_index": 12
      }
     ]
    },
    "8fcd5a94860d4557b7d5bdcba64d6a95": {
     "views": [
      {
       "cell_index": 12
      }
     ]
    },
    "8fede69aea144b21bc33391295a36242": {
     "views": [
      {
       "cell_index": 13
      }
     ]
    },
    "900a0f4b85d8402bb86e6a96b1157786": {
     "views": [
      {
       "cell_index": 12
      }
     ]
    },
    "91a3098b0b0e4e34ae0d20629b6ab70e": {
     "views": [
      {
       "cell_index": 12
      }
     ]
    },
    "938d41ceb78c4ffe9356f24a2fd0f4cb": {
     "views": [
      {
       "cell_index": 12
      }
     ]
    },
    "93abff5e1d6548ad960cf5dbf43d69ac": {
     "views": [
      {
       "cell_index": 12
      }
     ]
    },
    "93c15fdecc464d5ca90e063bfe127353": {
     "views": [
      {
       "cell_index": 12
      }
     ]
    },
    "959d83eb862e4b6ab8f47a39a8a3b780": {
     "views": [
      {
       "cell_index": 13
      }
     ]
    },
    "960a04c5f9484821a556be26aebfc8a1": {
     "views": [
      {
       "cell_index": 12
      }
     ]
    },
    "9611a725b2d74f4787d05a37e679038f": {
     "views": [
      {
       "cell_index": 12
      }
     ]
    },
    "96122f3fa82a431fb2993147e9f84069": {
     "views": [
      {
       "cell_index": 12
      }
     ]
    },
    "964f70e51bb1406d9a46bca699b8f7e5": {
     "views": [
      {
       "cell_index": 12
      }
     ]
    },
    "967be95b1fd84af1b06cc4019c299783": {
     "views": [
      {
       "cell_index": 12
      }
     ]
    },
    "96c15665dd4b4d90bb212aa97ead3ec4": {
     "views": [
      {
       "cell_index": 12
      }
     ]
    },
    "970bdfd8dc2642268d1000bd54d4aa72": {
     "views": [
      {
       "cell_index": 12
      }
     ]
    },
    "974f6681d7fb46ee8aea46c1e18166af": {
     "views": [
      {
       "cell_index": 12
      }
     ]
    },
    "9760f58aef5f48309fb7341491d95baa": {
     "views": [
      {
       "cell_index": 12
      }
     ]
    },
    "976e886d9ad34216a7df3e6dfc23c880": {
     "views": [
      {
       "cell_index": 12
      }
     ]
    },
    "97cc2102f5774df397306b2d459f1c0c": {
     "views": [
      {
       "cell_index": 13
      }
     ]
    },
    "980b1e9913e04cf1adc1af26f10079a4": {
     "views": [
      {
       "cell_index": 12
      }
     ]
    },
    "98873e96e2b1481fab698982795bd535": {
     "views": [
      {
       "cell_index": 12
      }
     ]
    },
    "99147bdd5b8a40d5a3a1f66c47491001": {
     "views": [
      {
       "cell_index": 12
      }
     ]
    },
    "993b64f57e4a4a00a40be76e661530dd": {
     "views": [
      {
       "cell_index": 12
      }
     ]
    },
    "997edb0d54c943eca1b3357789cda5bf": {
     "views": [
      {
       "cell_index": 11
      }
     ]
    },
    "9a998b3488254f65b6edca786ba4d253": {
     "views": [
      {
       "cell_index": 12
      }
     ]
    },
    "9b08c46505cf418d8bc7293caf87c527": {
     "views": [
      {
       "cell_index": 12
      }
     ]
    },
    "9c05b0d257a34dbebf0fc93458ebae97": {
     "views": [
      {
       "cell_index": 11
      }
     ]
    },
    "9c57f6fd08e048dfbe6f2e529bffbece": {
     "views": [
      {
       "cell_index": 12
      }
     ]
    },
    "9cfeb2aa7d7948318623bd36eee1fbd6": {
     "views": [
      {
       "cell_index": 12
      }
     ]
    },
    "9d28fff0bf524b3bb2bc80fdffacedff": {
     "views": [
      {
       "cell_index": 12
      }
     ]
    },
    "9d41cc6759d945af9cce4bd54ad4d3e9": {
     "views": [
      {
       "cell_index": 12
      }
     ]
    },
    "9d5192d1cc384382a1a757db472ad8b7": {
     "views": [
      {
       "cell_index": 12
      }
     ]
    },
    "9d63ebe7ba8a44efbc6f57ee8c6683e6": {
     "views": [
      {
       "cell_index": 12
      }
     ]
    },
    "9dc298c880604a57b7d3196755cf966d": {
     "views": [
      {
       "cell_index": 12
      }
     ]
    },
    "9e1a53516392419284e22be58025eb0e": {
     "views": [
      {
       "cell_index": 12
      }
     ]
    },
    "9e921b26f33e454690c953584c66d105": {
     "views": [
      {
       "cell_index": 13
      }
     ]
    },
    "9f09a44f3e6e490580e89db6868b6bb2": {
     "views": [
      {
       "cell_index": 12
      }
     ]
    },
    "9f3e9b2ff2134c99a836422f1ad9d816": {
     "views": [
      {
       "cell_index": 12
      }
     ]
    },
    "a076d1d8173f4af3a6bc212bff48ba1e": {
     "views": [
      {
       "cell_index": 13
      }
     ]
    },
    "a0c4412b14d34278be1f6490cd47e6fc": {
     "views": [
      {
       "cell_index": 12
      }
     ]
    },
    "a18a1d56369c4b1490f609402c7ab7d3": {
     "views": [
      {
       "cell_index": 12
      }
     ]
    },
    "a1bf36f6b96441979de63480abc3d5d4": {
     "views": [
      {
       "cell_index": 12
      }
     ]
    },
    "a2785d7682e24f5e969553af01d8f939": {
     "views": [
      {
       "cell_index": 12
      }
     ]
    },
    "a27fca806b064f048c6812abee439e3e": {
     "views": [
      {
       "cell_index": 12
      }
     ]
    },
    "a2da05d05d6f4ca3a42859a3365d375f": {
     "views": [
      {
       "cell_index": 12
      }
     ]
    },
    "a31794b1e90d4723b72d69fd985f07d5": {
     "views": [
      {
       "cell_index": 12
      }
     ]
    },
    "a3e6aaea0dda445ca02f1fc1144a2031": {
     "views": [
      {
       "cell_index": 12
      }
     ]
    },
    "a44143a6f05d43afa5e7975fd7010688": {
     "views": [
      {
       "cell_index": 12
      }
     ]
    },
    "a47eb5aeef3b4feda2e516fe0b6e6605": {
     "views": [
      {
       "cell_index": 12
      }
     ]
    },
    "a5419374b8d64803bcd511730d8f2b10": {
     "views": [
      {
       "cell_index": 13
      }
     ]
    },
    "a54739855527408abd666927f76eb0cd": {
     "views": [
      {
       "cell_index": 12
      }
     ]
    },
    "a5c3ea8e9b3a4b60af537ee7781d39bf": {
     "views": [
      {
       "cell_index": 12
      }
     ]
    },
    "a7052794e5934b99bb3cf2175e1c5506": {
     "views": [
      {
       "cell_index": 12
      }
     ]
    },
    "a7bcd49ab2f94b6b8346d125b72a9906": {
     "views": [
      {
       "cell_index": 12
      }
     ]
    },
    "a8076887f89d4d91bc3be9aacb6a3d82": {
     "views": [
      {
       "cell_index": 12
      }
     ]
    },
    "a8762be64f8445f4856473b2dc7f677f": {
     "views": [
      {
       "cell_index": 12
      }
     ]
    },
    "a8bfc43c692247479e53bd351eb3bdef": {
     "views": [
      {
       "cell_index": 12
      }
     ]
    },
    "a8fff09e177c4b5a88cd49176202f5ce": {
     "views": [
      {
       "cell_index": 13
      }
     ]
    },
    "a90a9442f351476f98cfa7319fea9023": {
     "views": [
      {
       "cell_index": 12
      }
     ]
    },
    "a947d6b9ca134640839ca9f1721ad6e0": {
     "views": [
      {
       "cell_index": 12
      }
     ]
    },
    "a94c2e9b24b74ddca298ccdf0318f735": {
     "views": [
      {
       "cell_index": 12
      }
     ]
    },
    "a98915e4ea1f4287aec1efd2642d496e": {
     "views": [
      {
       "cell_index": 12
      }
     ]
    },
    "a98a9b88f3ce452db370385256972b21": {
     "views": [
      {
       "cell_index": 12
      }
     ]
    },
    "aa53ab54e58a4260b2a3e8e6417812d7": {
     "views": [
      {
       "cell_index": 12
      }
     ]
    },
    "aa6feefbf1884c4792693f2be29f34c8": {
     "views": [
      {
       "cell_index": 13
      }
     ]
    },
    "aa73f86ac5c2457185c505b474467370": {
     "views": [
      {
       "cell_index": 12
      }
     ]
    },
    "aab3f816225c4ee3b4e7143810ea5961": {
     "views": [
      {
       "cell_index": 12
      }
     ]
    },
    "ab268c66d1f34f639a013d88d5b9e73e": {
     "views": [
      {
       "cell_index": 12
      }
     ]
    },
    "ab99e26e87f54e9daabf9c144c68745c": {
     "views": [
      {
       "cell_index": 12
      }
     ]
    },
    "abe6942622fd43578d931d4c86436ab2": {
     "views": [
      {
       "cell_index": 13
      }
     ]
    },
    "ac35cec8ace04976b7d45f21dc4c5e5f": {
     "views": [
      {
       "cell_index": 12
      }
     ]
    },
    "ac54f83309764487ac792e52f03058ef": {
     "views": [
      {
       "cell_index": 13
      }
     ]
    },
    "ac6804be11e24a81acacd9561d2e9b35": {
     "views": [
      {
       "cell_index": 12
      }
     ]
    },
    "ac702a04a15a468b82c239962af2f56e": {
     "views": [
      {
       "cell_index": 12
      }
     ]
    },
    "ac931c9f0a6d43aeb498e55a3e4fa417": {
     "views": [
      {
       "cell_index": 12
      }
     ]
    },
    "adee58e450d543b9aabe4566c66107e1": {
     "views": [
      {
       "cell_index": 11
      }
     ]
    },
    "ae7e3bdf2ed544259d6ce1e0dc1da808": {
     "views": [
      {
       "cell_index": 12
      }
     ]
    },
    "ae9b32019b5846148718f4d251bfa642": {
     "views": [
      {
       "cell_index": 13
      }
     ]
    },
    "aea1fb2cef104fc19e8a662eb3bfb797": {
     "views": [
      {
       "cell_index": 12
      }
     ]
    },
    "aede960e3c994b6e99346c0a3c26cde1": {
     "views": [
      {
       "cell_index": 12
      }
     ]
    },
    "afa653269204494f98dc1ce84f474bb6": {
     "views": [
      {
       "cell_index": 13
      }
     ]
    },
    "aff21ec04ef14eb4a80e620e3630be30": {
     "views": [
      {
       "cell_index": 12
      }
     ]
    },
    "b048edfe8dc94413b27ee780e6c89c03": {
     "views": [
      {
       "cell_index": 12
      }
     ]
    },
    "b0586361c25b49a482b6292684a86cbb": {
     "views": [
      {
       "cell_index": 12
      }
     ]
    },
    "b0bf1f5f18b8421395d30cf93f40cb68": {
     "views": [
      {
       "cell_index": 12
      }
     ]
    },
    "b0ffb89fcfae4a379ebaaa61f2a2e053": {
     "views": [
      {
       "cell_index": 12
      }
     ]
    },
    "b11e6aca6b674fbf8eb253def2411fac": {
     "views": [
      {
       "cell_index": 12
      }
     ]
    },
    "b1f6f9a08c0941dfbfd0e50067fe9711": {
     "views": [
      {
       "cell_index": 12
      }
     ]
    },
    "b2780e25061d40569596c5ac65988cd5": {
     "views": [
      {
       "cell_index": 12
      }
     ]
    },
    "b2a04717375b453086ca7cbf6c60e7d0": {
     "views": [
      {
       "cell_index": 12
      }
     ]
    },
    "b30092a23f0644e28ad5a92cfc023f03": {
     "views": [
      {
       "cell_index": 12
      }
     ]
    },
    "b31e3592068946ec99e74c277189298b": {
     "views": [
      {
       "cell_index": 12
      }
     ]
    },
    "b38c3c23d512483db088c7fbc25095bf": {
     "views": [
      {
       "cell_index": 12
      }
     ]
    },
    "b3da88d39c314139bbcece5a5433261d": {
     "views": [
      {
       "cell_index": 12
      }
     ]
    },
    "b4d03a9860a5420591e9ecba8bdf00ee": {
     "views": [
      {
       "cell_index": 12
      }
     ]
    },
    "b5074c8238c446588cd60feeff105966": {
     "views": [
      {
       "cell_index": 13
      }
     ]
    },
    "b545b22b4326482994ec7d04d93d1a5d": {
     "views": [
      {
       "cell_index": 12
      }
     ]
    },
    "b5b4fd14c9094db987fb1abae0e922ad": {
     "views": [
      {
       "cell_index": 12
      }
     ]
    },
    "b66474e5b1444e7b8178ea5212e80fdc": {
     "views": [
      {
       "cell_index": 12
      }
     ]
    },
    "b6ecdf80757545bf9eec13982a59ac0d": {
     "views": [
      {
       "cell_index": 12
      }
     ]
    },
    "b78e1d7cb4904e8c887694e472ef2bae": {
     "views": [
      {
       "cell_index": 13
      }
     ]
    },
    "b8a81f487dd54207a62e4b50314321cb": {
     "views": [
      {
       "cell_index": 12
      }
     ]
    },
    "b9732069e47c47ba810cee15e67d4199": {
     "views": [
      {
       "cell_index": 12
      }
     ]
    },
    "b97ee135cdb441f6acd986d6aff5c005": {
     "views": [
      {
       "cell_index": 12
      }
     ]
    },
    "b9d3571bffe0417fb6d524239a638386": {
     "views": [
      {
       "cell_index": 12
      }
     ]
    },
    "ba0b5a9177a7487688fbb2e18ad9d216": {
     "views": [
      {
       "cell_index": 12
      }
     ]
    },
    "ba95c81ad30f43ecadac8b27701a9328": {
     "views": [
      {
       "cell_index": 12
      }
     ]
    },
    "bad575ec880949e696e213de23333217": {
     "views": [
      {
       "cell_index": 12
      }
     ]
    },
    "bae58aaf93a34825a01c2ed25703c4fe": {
     "views": [
      {
       "cell_index": 12
      }
     ]
    },
    "bb63c4d0ed1445f1b1309630b5c12ab8": {
     "views": [
      {
       "cell_index": 12
      }
     ]
    },
    "bc1ef4832386422aa000774cebb4ae06": {
     "views": [
      {
       "cell_index": 12
      }
     ]
    },
    "bc55dc2c5ff24ed984f6f272ebf26289": {
     "views": [
      {
       "cell_index": 12
      }
     ]
    },
    "bc8b729b0ae642f19a9be5c8a24b766e": {
     "views": [
      {
       "cell_index": 12
      }
     ]
    },
    "bd5cead2e6b94828bb1df38a0a972b28": {
     "views": [
      {
       "cell_index": 12
      }
     ]
    },
    "be0aadf3ed294e4e8b13b6f3bdc14ac2": {
     "views": [
      {
       "cell_index": 12
      }
     ]
    },
    "be6c4b4e1b1447e8a5c4e115606f89d9": {
     "views": [
      {
       "cell_index": 13
      }
     ]
    },
    "bf3d4bab80e040ed9eea51c6642c5ff6": {
     "views": [
      {
       "cell_index": 12
      }
     ]
    },
    "bf8d7dc2c2f948b297eff961ee71fc94": {
     "views": [
      {
       "cell_index": 12
      }
     ]
    },
    "bfffa3dfa7444517ae675730e06c5d9b": {
     "views": [
      {
       "cell_index": 12
      }
     ]
    },
    "c0b12af36ed14b459de9de958e55f5f0": {
     "views": [
      {
       "cell_index": 12
      }
     ]
    },
    "c0de5de5975645dba01405c39b4f63db": {
     "views": [
      {
       "cell_index": 12
      }
     ]
    },
    "c0ed8db1659b402ebf5659aaae4e1745": {
     "views": [
      {
       "cell_index": 12
      }
     ]
    },
    "c1fbce0683aa4f468db29e694c8ae4ec": {
     "views": [
      {
       "cell_index": 12
      }
     ]
    },
    "c266399cd3ff43b3bfbdefde108a523e": {
     "views": [
      {
       "cell_index": 12
      }
     ]
    },
    "c2f466478c6040a89762e24314ac7c0f": {
     "views": [
      {
       "cell_index": 13
      }
     ]
    },
    "c35da15c45ef48e9b86cf4b92d411311": {
     "views": [
      {
       "cell_index": 12
      }
     ]
    },
    "c44e7e8bc40848b1861c283a00ccc3b4": {
     "views": [
      {
       "cell_index": 12
      }
     ]
    },
    "c4eddbea47fc430d898a4a79550e9520": {
     "views": [
      {
       "cell_index": 12
      }
     ]
    },
    "c538fc68814d41b6b462fa268a577f2a": {
     "views": [
      {
       "cell_index": 12
      }
     ]
    },
    "c6279badeafb4149a384a243b0e36990": {
     "views": [
      {
       "cell_index": 12
      }
     ]
    },
    "c66fb56920a746148c864d919f1ffbce": {
     "views": [
      {
       "cell_index": 12
      }
     ]
    },
    "c6806a81f148484faba3420af0aa0ff6": {
     "views": [
      {
       "cell_index": 12
      }
     ]
    },
    "c6a026e92b4a4c95b127a8bf7764c460": {
     "views": [
      {
       "cell_index": 12
      }
     ]
    },
    "c6cc2d49522c409ebbcfc5f475ebaa04": {
     "views": [
      {
       "cell_index": 13
      }
     ]
    },
    "c6d4a98987494e0c97f251769ab73c3b": {
     "views": [
      {
       "cell_index": 12
      }
     ]
    },
    "c71967efc26a4aabbcb7ef2041dd84e8": {
     "views": [
      {
       "cell_index": 12
      }
     ]
    },
    "c74af1289182411482f163e77202e7a1": {
     "views": [
      {
       "cell_index": 12
      }
     ]
    },
    "c8a216f06d3a4e54869f901f81428b0b": {
     "views": [
      {
       "cell_index": 12
      }
     ]
    },
    "c8e14c59d8854e0784290fcec99580ae": {
     "views": [
      {
       "cell_index": 12
      }
     ]
    },
    "c92cfa730a5141938f5a7866ac5737a7": {
     "views": [
      {
       "cell_index": 12
      }
     ]
    },
    "c9ef4dcd710846e586a60e270a6fd6bf": {
     "views": [
      {
       "cell_index": 12
      }
     ]
    },
    "c9fff131d78642d6b84b1cd431966f82": {
     "views": [
      {
       "cell_index": 12
      }
     ]
    },
    "ca0d37a2ea684a4bb3ed89459b8e8e8e": {
     "views": [
      {
       "cell_index": 12
      }
     ]
    },
    "ca3035c7f70e4a4e95c7d63caf1bdd1e": {
     "views": [
      {
       "cell_index": 12
      }
     ]
    },
    "ca5712c26d424380a04fc5fe6b2ccbd5": {
     "views": [
      {
       "cell_index": 12
      }
     ]
    },
    "ca61a1ed9b24494db4b6eb6421443c73": {
     "views": [
      {
       "cell_index": 12
      }
     ]
    },
    "cb852a28581a4245ba7413f09a53bcd5": {
     "views": [
      {
       "cell_index": 12
      }
     ]
    },
    "cc04a9a9b6f74130b5209a7cfddb1000": {
     "views": [
      {
       "cell_index": 12
      }
     ]
    },
    "cc1eed80b18b49568e6447a7e64109ff": {
     "views": [
      {
       "cell_index": 12
      }
     ]
    },
    "cc420a8076734861b0cfdd0a01df858b": {
     "views": [
      {
       "cell_index": 12
      }
     ]
    },
    "cd1d7965836147f8a56f76b1393c4f7e": {
     "views": [
      {
       "cell_index": 12
      }
     ]
    },
    "cdedd04eeb094cae88875fbca115494f": {
     "views": [
      {
       "cell_index": 12
      }
     ]
    },
    "ce172a208748436d871806c56dda4038": {
     "views": [
      {
       "cell_index": 12
      }
     ]
    },
    "cebe0588f5124e6f9cabcc6ff95e194d": {
     "views": [
      {
       "cell_index": 11
      }
     ]
    },
    "cf1573c0a3d046c8827421f4a524cea7": {
     "views": [
      {
       "cell_index": 12
      }
     ]
    },
    "cf1993b8f95f4e9199837956056ec96a": {
     "views": [
      {
       "cell_index": 12
      }
     ]
    },
    "cf56164fce574040be7f3e3be42f811a": {
     "views": [
      {
       "cell_index": 12
      }
     ]
    },
    "cf8b979fce6f4064ae0544ff31f8d4d4": {
     "views": [
      {
       "cell_index": 12
      }
     ]
    },
    "cf917aea55894a548b32ff9554a0d227": {
     "views": [
      {
       "cell_index": 12
      }
     ]
    },
    "d01a3390759a4b6f9587c0d5ecff1545": {
     "views": [
      {
       "cell_index": 13
      }
     ]
    },
    "d04b5a37e2704325837a53f9ad1c3dac": {
     "views": [
      {
       "cell_index": 12
      }
     ]
    },
    "d07ff0d49daa41ea9064b6f90b058a54": {
     "views": [
      {
       "cell_index": 12
      }
     ]
    },
    "d0c750dd34f145148e0ba200140d5497": {
     "views": [
      {
       "cell_index": 12
      }
     ]
    },
    "d0de16fd90724c40b370789757971edb": {
     "views": [
      {
       "cell_index": 12
      }
     ]
    },
    "d17e1217888d4560ae232d94aab84986": {
     "views": [
      {
       "cell_index": 12
      }
     ]
    },
    "d2be3248af2f4cad80f728cf13014b6b": {
     "views": [
      {
       "cell_index": 12
      }
     ]
    },
    "d2e2c1b9cfca458a8c50ea47d04b2895": {
     "views": [
      {
       "cell_index": 12
      }
     ]
    },
    "d364f26836df4e458cdbb19beaaec245": {
     "views": [
      {
       "cell_index": 12
      }
     ]
    },
    "d45cceea8e9743b0aeb7d11e338a671a": {
     "views": [
      {
       "cell_index": 12
      }
     ]
    },
    "d490fda60c4641dc9317aca657d11875": {
     "views": [
      {
       "cell_index": 12
      }
     ]
    },
    "d4b2075e7ea746d79207eeb78a495b29": {
     "views": [
      {
       "cell_index": 13
      }
     ]
    },
    "d5be9353f3714530a04d0b144d6b5f3e": {
     "views": [
      {
       "cell_index": 12
      }
     ]
    },
    "d64010dfb03e470296e8a25d71b68a8b": {
     "views": [
      {
       "cell_index": 12
      }
     ]
    },
    "d6926f84091843b39296938b7c85ac0e": {
     "views": [
      {
       "cell_index": 11
      }
     ]
    },
    "d6df10b327b748ab8905a2ef06394ca2": {
     "views": [
      {
       "cell_index": 13
      }
     ]
    },
    "d7f6c72d829a409ab541db8fba5d583f": {
     "views": [
      {
       "cell_index": 12
      }
     ]
    },
    "d94a8cc2122e4f09be5b1391b9db0373": {
     "views": [
      {
       "cell_index": 12
      }
     ]
    },
    "d95676d32eac44a88f4ba93262f5e5dd": {
     "views": [
      {
       "cell_index": 12
      }
     ]
    },
    "da575a5b6c024fc084c46c30e5f6e856": {
     "views": [
      {
       "cell_index": 12
      }
     ]
    },
    "da82415535754c7dade3c06f4451731d": {
     "views": [
      {
       "cell_index": 12
      }
     ]
    },
    "da97c2b5df604829b81e87615018cebf": {
     "views": [
      {
       "cell_index": 12
      }
     ]
    },
    "db426eb1f0c54c53af2a0abf3a9516b8": {
     "views": [
      {
       "cell_index": 12
      }
     ]
    },
    "dba68824d4b648d3811e11bd9101c72b": {
     "views": [
      {
       "cell_index": 12
      }
     ]
    },
    "dbc7acaa1cb94b78a7ba0dbb48c2f0c8": {
     "views": [
      {
       "cell_index": 12
      }
     ]
    },
    "dbc913d4ebc84f04a024600b35541c22": {
     "views": [
      {
       "cell_index": 12
      }
     ]
    },
    "dd336532211f481e82a7594ff6a45f35": {
     "views": [
      {
       "cell_index": 12
      }
     ]
    },
    "dd56f5466c1e4107af30ba8519a51068": {
     "views": [
      {
       "cell_index": 12
      }
     ]
    },
    "dec47530497a49dc8c5edaf3152b7e9a": {
     "views": [
      {
       "cell_index": 12
      }
     ]
    },
    "dee384a280384a61b7ef2d66a857e49e": {
     "views": [
      {
       "cell_index": 12
      }
     ]
    },
    "deec9e3bbd7a4674ac2af6e953661b24": {
     "views": [
      {
       "cell_index": 12
      }
     ]
    },
    "dff4b2afada24ea9a9b2b23e616e6734": {
     "views": [
      {
       "cell_index": 12
      }
     ]
    },
    "dff83d78b97842cfbb788d88f7fb93d6": {
     "views": [
      {
       "cell_index": 12
      }
     ]
    },
    "e0f63e295ccf4eaabc11c03a87472db1": {
     "views": [
      {
       "cell_index": 12
      }
     ]
    },
    "e223d9e701514e368ce9ece7b0342aaa": {
     "views": [
      {
       "cell_index": 12
      }
     ]
    },
    "e298d446d192467ebdc40423daa8cf52": {
     "views": [
      {
       "cell_index": 12
      }
     ]
    },
    "e3abba0bcf504fffac3962da2709ef15": {
     "views": [
      {
       "cell_index": 12
      }
     ]
    },
    "e3bb0eff32c748c38483ca25389973d8": {
     "views": [
      {
       "cell_index": 12
      }
     ]
    },
    "e3d84e878b92479ab1baa33cc15b3b58": {
     "views": [
      {
       "cell_index": 12
      }
     ]
    },
    "e411d5c2b8e94d61bed675d436d7368c": {
     "views": [
      {
       "cell_index": 12
      }
     ]
    },
    "e4802a18156e4f5b8b40c109d421620a": {
     "views": [
      {
       "cell_index": 12
      }
     ]
    },
    "e55ad2f0c2794498874b371241fe0749": {
     "views": [
      {
       "cell_index": 13
      }
     ]
    },
    "e5bdf2ddfab74493b6eb1a6dcf3b5d31": {
     "views": [
      {
       "cell_index": 11
      }
     ]
    },
    "e5d27db5cd534a5aa3bb1d93d9ef451a": {
     "views": [
      {
       "cell_index": 12
      }
     ]
    },
    "e695e30c9dbf4f01a5cd30fe5cb22ad3": {
     "views": [
      {
       "cell_index": 12
      }
     ]
    },
    "e6abfe5bee0247a99093b2b1b557bf37": {
     "views": [
      {
       "cell_index": 13
      }
     ]
    },
    "e74b80fe53104053a8c3f34ce5e7a8a0": {
     "views": [
      {
       "cell_index": 12
      }
     ]
    },
    "e8e6370bec4544d28a17c14e2ddf621e": {
     "views": [
      {
       "cell_index": 12
      }
     ]
    },
    "e91b80d7ed5946e4931411fc65f6619a": {
     "views": [
      {
       "cell_index": 12
      }
     ]
    },
    "e99b7614a84546eb8eee8bee11f535b3": {
     "views": [
      {
       "cell_index": 12
      }
     ]
    },
    "ea15f70042e54a8091c3e9742f4c8518": {
     "views": [
      {
       "cell_index": 12
      }
     ]
    },
    "ea6f2b68a6344107965aab9ea1cd21e7": {
     "views": [
      {
       "cell_index": 12
      }
     ]
    },
    "ea797a846c2746cd8b5f2ba2ebaaa8c1": {
     "views": [
      {
       "cell_index": 12
      }
     ]
    },
    "eaca3c25e05842a8a43114b57656b4ee": {
     "views": [
      {
       "cell_index": 12
      }
     ]
    },
    "eacb7934026043fdbe563e875939b212": {
     "views": [
      {
       "cell_index": 12
      }
     ]
    },
    "eaf43ca8298140e88217ba5889519e1c": {
     "views": [
      {
       "cell_index": 12
      }
     ]
    },
    "eb418321de8442ab886437163ca3da9c": {
     "views": [
      {
       "cell_index": 12
      }
     ]
    },
    "eb4f10a3bda94962993d55bb5082f246": {
     "views": [
      {
       "cell_index": 13
      }
     ]
    },
    "ebc971ccc9de4a79a10227d216f994d5": {
     "views": [
      {
       "cell_index": 12
      }
     ]
    },
    "ec252361e9da4e7b96d5789b99ee7b0b": {
     "views": [
      {
       "cell_index": 12
      }
     ]
    },
    "ec26c7eeb62e41928df85317ce9a0f1a": {
     "views": [
      {
       "cell_index": 12
      }
     ]
    },
    "ed0da7209a1b4f5da9ec7b49834e58d3": {
     "views": [
      {
       "cell_index": 12
      }
     ]
    },
    "ed4fcf4d12ae455fa22704a0249f76b0": {
     "views": [
      {
       "cell_index": 12
      }
     ]
    },
    "edb3a160bfb04ec9ba61b0800481fae9": {
     "views": [
      {
       "cell_index": 12
      }
     ]
    },
    "ee3ca71cfbb7422dbf7d2da183cbc67b": {
     "views": [
      {
       "cell_index": 11
      }
     ]
    },
    "ee5cc60e292949b7976e483d894f4d9c": {
     "views": [
      {
       "cell_index": 13
      }
     ]
    },
    "ee616fb6e41f445fa0a269eb0390a2de": {
     "views": [
      {
       "cell_index": 12
      }
     ]
    },
    "ee8acf80abb24d93903530540cb7a57a": {
     "views": [
      {
       "cell_index": 12
      }
     ]
    },
    "eef0ca29cacb47a2b408e3267babbbc5": {
     "views": [
      {
       "cell_index": 12
      }
     ]
    },
    "ef250cff6250415f8c2250232b0853f8": {
     "views": [
      {
       "cell_index": 12
      }
     ]
    },
    "efb68d3e07564c8285eb88ce27cb006b": {
     "views": [
      {
       "cell_index": 12
      }
     ]
    },
    "f02fb662a6fd42a7ac9c8be999954963": {
     "views": [
      {
       "cell_index": 12
      }
     ]
    },
    "f0a5f037e5814bcea0aa6821d8725038": {
     "views": [
      {
       "cell_index": 13
      }
     ]
    },
    "f10e80fbe54145e8b4862988c4a8c705": {
     "views": [
      {
       "cell_index": 12
      }
     ]
    },
    "f11624d4852040058bd44a430056f174": {
     "views": [
      {
       "cell_index": 12
      }
     ]
    },
    "f1c0701f3d2c4ae39794f2f09e9b2caf": {
     "views": [
      {
       "cell_index": 12
      }
     ]
    },
    "f1c5f93135cb4b99857f880a335b3dd3": {
     "views": [
      {
       "cell_index": 13
      }
     ]
    },
    "f387b302acae4afbbe28972bdc12d5ac": {
     "views": [
      {
       "cell_index": 12
      }
     ]
    },
    "f3b3fbc5b36a4c468d35a14ae6ab61e8": {
     "views": [
      {
       "cell_index": 12
      }
     ]
    },
    "f3bdf033ab4e4894b0553f2bf78c4848": {
     "views": [
      {
       "cell_index": 12
      }
     ]
    },
    "f4077eff69314ae58f4ba12a994fcc28": {
     "views": [
      {
       "cell_index": 12
      }
     ]
    },
    "f40d9e2b93cf44dabbdfe2420cb84e13": {
     "views": [
      {
       "cell_index": 12
      }
     ]
    },
    "f4e5df690c7e40939b0057509bdc7fcd": {
     "views": [
      {
       "cell_index": 12
      }
     ]
    },
    "f6acf367d1254fa09ae1393f8717d5d7": {
     "views": [
      {
       "cell_index": 12
      }
     ]
    },
    "f70f4f60de0e48fea9cc6f6ae10dbb7d": {
     "views": [
      {
       "cell_index": 12
      }
     ]
    },
    "f7d3ff87b4ce481faadafd70f871100e": {
     "views": [
      {
       "cell_index": 12
      }
     ]
    },
    "f7dd698fdf8a4fc9a3baa1cd46ef28cb": {
     "views": [
      {
       "cell_index": 11
      }
     ]
    },
    "f881765366b7424894f301d375d53189": {
     "views": [
      {
       "cell_index": 12
      }
     ]
    },
    "f8bff7affc22419aa97bd3eeca03ea21": {
     "views": [
      {
       "cell_index": 13
      }
     ]
    },
    "f98d222a53814e39acef47df4ddd6295": {
     "views": [
      {
       "cell_index": 13
      }
     ]
    },
    "f9dcef9c91bf4d2d8e2efc04e419b4f9": {
     "views": [
      {
       "cell_index": 13
      }
     ]
    },
    "fa54572378734362bada0bf4f749322e": {
     "views": [
      {
       "cell_index": 13
      }
     ]
    },
    "fa8e12a3a65b4aa78f13df6e10e1dde5": {
     "views": [
      {
       "cell_index": 12
      }
     ]
    },
    "fae0cbe1735449f9b8ad6625dc017db7": {
     "views": [
      {
       "cell_index": 12
      }
     ]
    },
    "fb06eac7d1d441d487f49f6c8dfd8f57": {
     "views": [
      {
       "cell_index": 12
      }
     ]
    },
    "fb359c2a2f624fbb84225fe9aac033f4": {
     "views": [
      {
       "cell_index": 12
      }
     ]
    },
    "fb63b6b0c3ec4511ac2e70ca105f3fde": {
     "views": [
      {
       "cell_index": 12
      }
     ]
    },
    "fbd06a8433b54bed8935b143e8bec0be": {
     "views": [
      {
       "cell_index": 12
      }
     ]
    },
    "fc52b442c5dd40aa8d2fc9f814ab90d7": {
     "views": [
      {
       "cell_index": 12
      }
     ]
    },
    "fc920d613d1949618fd02ab92674f26e": {
     "views": [
      {
       "cell_index": 13
      }
     ]
    },
    "fc9d4d270acf4af1b3a7dea255482b47": {
     "views": [
      {
       "cell_index": 12
      }
     ]
    },
    "fcbc717026424f1293ca14c7d498b099": {
     "views": [
      {
       "cell_index": 12
      }
     ]
    },
    "fd1c9c7c5f39491bafd580532220b99f": {
     "views": [
      {
       "cell_index": 12
      }
     ]
    },
    "fdb1ecb7cbac4401b933ad3dd50b4f4e": {
     "views": [
      {
       "cell_index": 12
      }
     ]
    },
    "fe60199803f44ce0ac445f8b0dc1b733": {
     "views": [
      {
       "cell_index": 12
      }
     ]
    },
    "ff533499cf0047eeb952be0fe1ac2cc2": {
     "views": [
      {
       "cell_index": 13
      }
     ]
    },
    "ff94f2bca6514c0c971192a9318afde7": {
     "views": [
      {
       "cell_index": 12
      }
     ]
    },
    "ffb85be621884266adb741d5091effb8": {
     "views": [
      {
       "cell_index": 12
      }
     ]
    }
   },
   "version": "1.2.0"
  }
 },
 "nbformat": 4,
 "nbformat_minor": 1
}
